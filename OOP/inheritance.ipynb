{
 "cells": [
  {
   "cell_type": "markdown",
   "id": "64d28e29",
   "metadata": {},
   "source": [
    "## Inheritance"
   ]
  },
  {
   "cell_type": "markdown",
   "id": "ec40e8fd",
   "metadata": {},
   "source": [
    "Taking a class from one class to another class "
   ]
  },
  {
   "cell_type": "markdown",
   "id": "b78be6f5",
   "metadata": {},
   "source": [
    "Super class \n",
    "\n",
    "Base class\n"
   ]
  },
  {
   "cell_type": "markdown",
   "id": "7306517a",
   "metadata": {},
   "source": [
    "Parent class\n",
    "\n",
    "Child class"
   ]
  },
  {
   "cell_type": "markdown",
   "id": "a6f7b828",
   "metadata": {},
   "source": [
    "Derived class \n",
    "\n",
    "Base class"
   ]
  },
  {
   "cell_type": "markdown",
   "id": "ba4a9d1b",
   "metadata": {},
   "source": [
    "Classes can inherit from other classes. ex- we can use Parent class in the child class through the inheritance method."
   ]
  },
  {
   "cell_type": "markdown",
   "id": "f080d5a4",
   "metadata": {},
   "source": [
    "Types of Inheritance :Single, Multilevel, Multiple, Hierarchical, Hybrid"
   ]
  },
  {
   "cell_type": "markdown",
   "id": "7cf448bb",
   "metadata": {},
   "source": [
    "Single Inheritance: Parent Classs ---inherit------> Child Class"
   ]
  },
  {
   "cell_type": "code",
   "execution_count": 3,
   "id": "4a0fb667",
   "metadata": {},
   "outputs": [
    {
     "name": "stdout",
     "output_type": "stream",
     "text": [
      "Parent Class Function Called\n",
      "Child Class Function Called\n"
     ]
    }
   ],
   "source": [
    "# single inheritance\n",
    "\n",
    "class ParentClass: # Parent class \n",
    "    def function(self): # parent class property \n",
    "        print(\"Parent Class Function Called\")\n",
    "class ChildClass(ParentClass): # child class \n",
    "    def function1(self): #child class property \n",
    "        print(\"Child Class Function Called\")\n",
    "\n",
    "# creating an object of child class \n",
    "c = ChildClass()\n",
    "c.function()\n",
    "c.function1()"
   ]
  },
  {
   "cell_type": "markdown",
   "id": "1c89af4f",
   "metadata": {},
   "source": [
    "Multilevel Inheritance: Parent Classs --inherit--> Sub Parent Class --inherit--> Child Class."
   ]
  },
  {
   "cell_type": "code",
   "execution_count": 1,
   "id": "514a1fd3",
   "metadata": {},
   "outputs": [
    {
     "name": "stdout",
     "output_type": "stream",
     "text": [
      "Parent Class Function Called\n",
      "Sub Parent Class Function Called\n",
      "Child Class Function Called\n"
     ]
    }
   ],
   "source": [
    "# Multilevel Inheritance\n",
    "\n",
    "class ParentClass: # Parent class \n",
    "    def function(self): # parent class property \n",
    "        print(\"Parent Class Function Called\")\n",
    "\n",
    "class SubParentClass(ParentClass): # sub parent class\n",
    "    def function1(self): # sub parent class property \n",
    "        print(\"Sub Parent Class Function Called\")\n",
    "\n",
    "class ChildClass(SubParentClass): # child class \n",
    "    def function2(self): #child class property \n",
    "        print(\"Child Class Function Called\")\n",
    "\n",
    "# creating an object of child class \n",
    "cl = ChildClass()\n",
    "cl.function()\n",
    "cl.function1()\n",
    "cl.function2()"
   ]
  },
  {
   "cell_type": "markdown",
   "id": "e48dcf82",
   "metadata": {},
   "source": [
    "Multiple Inheritance: Parent Classs and 1Parent Class --inherit-->  Child Class.\n",
    "\n",
    "Two parent class in one child class \n"
   ]
  },
  {
   "cell_type": "code",
   "execution_count": 5,
   "id": "9d976108",
   "metadata": {},
   "outputs": [
    {
     "name": "stdout",
     "output_type": "stream",
     "text": [
      "Parent1 Class Function Called\n",
      "Parent2 Class Function Called\n",
      "Child Class Function Called\n"
     ]
    }
   ],
   "source": [
    "# Multiple Inheritance\n",
    "\n",
    "class ParentClass1: # 1Parent class \n",
    "    def function(self): # parent class property \n",
    "        print(\"Parent1 Class Function Called\")\n",
    "\n",
    "class ParentClass2 : # 2parent class\n",
    "    def function1(self): # sub parent class property \n",
    "        print(\"Parent2 Class Function Called\")\n",
    "\n",
    "class ChildClass(ParentClass1,ParentClass2): # child class \n",
    "    def function2(self): #child class property \n",
    "        print(\"Child Class Function Called\")\n",
    "\n",
    "# creating an object of child class \n",
    "cl = ChildClass()\n",
    "cl.function()\n",
    "cl.function1()\n",
    "cl.function2()"
   ]
  },
  {
   "cell_type": "markdown",
   "id": "6829fe92",
   "metadata": {},
   "source": [
    "Hierarchical Inheritance: Child Classs and Child Class 1 --inherit-->  Parent Class.\n",
    "\n",
    "one parent class in two child class "
   ]
  },
  {
   "cell_type": "code",
   "execution_count": 14,
   "id": "f1b9689a",
   "metadata": {},
   "outputs": [
    {
     "name": "stdout",
     "output_type": "stream",
     "text": [
      "Parent Class Function Called\n",
      "Child1 Class Function called\n",
      "Parent Class Function Called\n",
      "Child2 class Function Called\n"
     ]
    }
   ],
   "source": [
    "# Hierarchical Inheritance\n",
    "\n",
    "class parentclass:\n",
    "    def function(self):\n",
    "        print(\"Parent Class Function Called\")\n",
    "\n",
    "class childclass1(parentclass):\n",
    "    def function1(self):\n",
    "        print(\"Child1 Class Function called\")\n",
    "\n",
    "class childclass2(parentclass):\n",
    "    def function2(self):\n",
    "        print(\"Child2 class Function Called\")\n",
    "\n",
    "# Creating an 2 object \n",
    "ccl1 = childclass1()\n",
    "ccl2 = childclass2()\n",
    "\n",
    "# calling a function of parent class and childclass1 \n",
    "ccl1.function()\n",
    "ccl1.function1()\n",
    "\n",
    "# calling a function of parent class and childclass1 \n",
    "ccl2.function()\n",
    "ccl2.function2()\n",
    "\n",
    "\n",
    "\n"
   ]
  },
  {
   "cell_type": "markdown",
   "id": "f469f5ec",
   "metadata": {},
   "source": [
    "Hybrid Inheritance: Parent Class --inherit--> Child Classs and Child Class --inherit--> Child Class   .\n",
    "\n",
    "parent class to childclass1 and childclass2 this both will go to the childclass3  "
   ]
  },
  {
   "cell_type": "code",
   "execution_count": 16,
   "id": "6df3dc03",
   "metadata": {},
   "outputs": [
    {
     "name": "stdout",
     "output_type": "stream",
     "text": [
      "Parent Class Function Called\n",
      "Child Class 1 Function Called\n",
      "Child Class 2 Function Called\n",
      "Child Class 3 Function Called\n"
     ]
    }
   ],
   "source": [
    "# Hybrid Inheritance\n",
    "\n",
    "class parentclass:\n",
    "    def function1(self):\n",
    "        print(\"Parent Class Function Called\")\n",
    "class childclass1(parentclass):\n",
    "    def function2(self):\n",
    "        print(\"Child Class 1 Function Called\")\n",
    "class childclass2(parentclass):\n",
    "    def function3(self):\n",
    "        print(\"Child Class 2 Function Called\")\n",
    "class childclass3(childclass1,childclass2):\n",
    "    def function4(self):\n",
    "        print(\"Child Class 3 Function Called\")\n",
    "\n",
    "# creating an object of class childclass3\n",
    "cls = childclass3()\n",
    "\n",
    "# calling a function\n",
    "cls.function1()\n",
    "cls.function2()\n",
    "cls.function3()\n",
    "cls.function4()\n",
    "\n",
    "\n"
   ]
  },
  {
   "cell_type": "markdown",
   "id": "4f6dacdd",
   "metadata": {},
   "source": [
    "# Create a Parent Class\n",
    "\n",
    "Any class can be a parent class, so the syntax is the same as creating any other class:"
   ]
  },
  {
   "cell_type": "code",
   "execution_count": null,
   "id": "b115c429",
   "metadata": {},
   "outputs": [
    {
     "name": "stdout",
     "output_type": "stream",
     "text": [
      "My Full name is Vivek Chenna\n"
     ]
    }
   ],
   "source": [
    "# Example\n",
    "# Create a class named Person, with firstname and lastname properties, and a printname method:\n",
    "\n",
    "class Person: # parent class \n",
    "    def __init__(self, f_name, l_name):\n",
    "        self.f_name = f_name\n",
    "        self.l_name = l_name\n",
    "    \n",
    "    def printname(self):\n",
    "        print(f\"My Full name is {self.f_name} {self.l_name}\")\n",
    "\n",
    "# creating an object of class Person\n",
    "p = Person(\"Vivek\", \"Chenna\")\n",
    "p.printname()"
   ]
  },
  {
   "cell_type": "markdown",
   "id": "5a6005fe",
   "metadata": {},
   "source": [
    "# Create a Child Class\n",
    "#To create a class that inherits the functionality from another class, send the parent class as a parameter when creating the child class:\n"
   ]
  },
  {
   "cell_type": "code",
   "execution_count": null,
   "id": "1349397d",
   "metadata": {},
   "outputs": [],
   "source": [
    "# Example \n",
    "# Create a Child Class\n",
    "# To create a class that inherits the functionality from another class, send the parent class as a parameter when creating the child class:\n",
    "\n",
    "class Student(Person): # student is child class   # Person is a parent class\n",
    "    pass\n"
   ]
  },
  {
   "cell_type": "code",
   "execution_count": null,
   "id": "318cf333",
   "metadata": {},
   "outputs": [],
   "source": [
    "# Example\n",
    "# Create a class named Person, with firstname and lastname properties, and a printname method:\n",
    "\n",
    "class Person: # parent class \n",
    "    def __init__(self, f_name, l_name):\n",
    "        self.f_name = f_name\n",
    "        self.l_name = l_name\n",
    "\n",
    "class Student(Person): # student is child class   # Person is a parent class\n",
    "    pass    \n",
    "    \n",
    "# pass keyword when you do not want to add any other properties or methods to the class."
   ]
  },
  {
   "cell_type": "code",
   "execution_count": null,
   "id": "ab466cc6",
   "metadata": {},
   "outputs": [
    {
     "name": "stdout",
     "output_type": "stream",
     "text": [
      " My full name is Vivek Chenna\n"
     ]
    }
   ],
   "source": [
    "class Person: # parent class\n",
    "    def __init__(self, fname, lname):\n",
    "        self.fname = fname\n",
    "        self.lname = lname\n",
    "class Student(Person): # child class\n",
    "    def function(self):\n",
    "        print(f\" My full name is {self.fname} {self.lname}\")\n",
    " # creating an object of class Student\n",
    "s = Student(\"Vivek\", \"Chenna\")\n",
    "s.function()"
   ]
  },
  {
   "cell_type": "code",
   "execution_count": null,
   "id": "fbdc05d9",
   "metadata": {},
   "outputs": [],
   "source": []
  }
 ],
 "metadata": {
  "kernelspec": {
   "display_name": "Python 3",
   "language": "python",
   "name": "python3"
  },
  "language_info": {
   "codemirror_mode": {
    "name": "ipython",
    "version": 3
   },
   "file_extension": ".py",
   "mimetype": "text/x-python",
   "name": "python",
   "nbconvert_exporter": "python",
   "pygments_lexer": "ipython3",
   "version": "3.13.1"
  }
 },
 "nbformat": 4,
 "nbformat_minor": 5
}
