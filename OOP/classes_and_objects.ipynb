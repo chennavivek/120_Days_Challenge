{
 "cells": [
  {
   "cell_type": "code",
   "execution_count": null,
   "id": "ddfd76bd",
   "metadata": {},
   "outputs": [],
   "source": [
    "# Create a Class\n",
    "# Create a class named MyClass, with a property named x:\n",
    "\n",
    "class MyClass:\n",
    "    x = 5"
   ]
  },
  {
   "cell_type": "code",
   "execution_count": null,
   "id": "e301316c",
   "metadata": {},
   "outputs": [],
   "source": [
    "# Create Object\n",
    "# Now we can use the class named MyClass to create objects:\n",
    "\n",
    "# Example\n",
    "# Create an object named p1, and print the value of x:\n",
    "\n",
    "class MyClass:\n",
    "    x = 5\n",
    "p1 = MyClass()\n",
    "print(p1.x)\n",
    "\n"
   ]
  },
  {
   "cell_type": "code",
   "execution_count": 2,
   "id": "b1319bb9",
   "metadata": {},
   "outputs": [
    {
     "name": "stdout",
     "output_type": "stream",
     "text": [
      "vivek\n"
     ]
    }
   ],
   "source": [
    "class MyClass:\n",
    "    x = \"vivek\"\n",
    "p1 = MyClass()\n",
    "print(p1.x)\n"
   ]
  },
  {
   "cell_type": "code",
   "execution_count": null,
   "id": "c524a6e2",
   "metadata": {},
   "outputs": [],
   "source": [
    "# ## The __init__() Function\n",
    "# To understand the meaning of classes we have to understand the built-in __init__() function.\n",
    "\n",
    "# All classes have a function called __init__(), which is always executed -\n",
    "# - when the class is being initiated.\n",
    "\n",
    "# Use the __init__() function to assign values to object properties, -\n",
    "# - or other operations that are necessary to do when the object is being created:"
   ]
  },
  {
   "cell_type": "code",
   "execution_count": null,
   "id": "c4b6cf92",
   "metadata": {},
   "outputs": [
    {
     "name": "stdout",
     "output_type": "stream",
     "text": [
      "The Vivek R Chenna age is 24\n"
     ]
    }
   ],
   "source": [
    "# Example\n",
    "# Create a class named Person, use the __init__() function to assign values for name and age:\n",
    "class person: # Create a class named person\n",
    "  def __init__(self, name, age): # The __init__() function is called when the class is being initiated\n",
    "    self.name = name # Assign the name parameter to the name property\n",
    "    self.age = age # Assign the age parameter to the age property\n",
    "# Create an object named name_age_of_person, and assign the values \"Vivek R Chenna\" and 24 to the name and age properties\n",
    "name_age_of_person = person(\"Vivek R Chenna\", 24) \n",
    "# Print the name and age of the person    \n",
    "print(f\"The {name_age_of_person.name} age is {name_age_of_person.age}\")"
   ]
  },
  {
   "cell_type": "code",
   "execution_count": null,
   "id": "32633886",
   "metadata": {},
   "outputs": [],
   "source": [
    "# Note: The __init__() function is called automatically every time the class is being used to create a new object."
   ]
  },
  {
   "cell_type": "code",
   "execution_count": null,
   "id": "b77b2a7c",
   "metadata": {},
   "outputs": [],
   "source": [
    "# The __str__() Function\n",
    "# The __str__() function controls what should be returned when the class object is represented as a string.\n",
    "\n",
    "# If the __str__() function is not set, the string representation of the object is returned:"
   ]
  },
  {
   "cell_type": "code",
   "execution_count": 18,
   "id": "3244c30e",
   "metadata": {},
   "outputs": [
    {
     "name": "stdout",
     "output_type": "stream",
     "text": [
      "<__main__.person object at 0x10359ea50>\n",
      "dhru v chenna\n",
      "24\n"
     ]
    }
   ],
   "source": [
    "# Example\n",
    "# The string representation of an object WITHOUT the __str__() function:\n",
    "\n",
    "class person:\n",
    "    def __init__(self, name, age):\n",
    "        self.name = name\n",
    "        self.age = age\n",
    "# creating an object\n",
    "nap = person(\"dhru v chenna\", 24)\n",
    "# printing the object\n",
    "print(nap)\n",
    "print(nap.name)\n",
    "print(nap.age)\n"
   ]
  },
  {
   "cell_type": "code",
   "execution_count": null,
   "id": "dd074b8f",
   "metadata": {},
   "outputs": [
    {
     "name": "stdout",
     "output_type": "stream",
     "text": [
      "dhru v chenna is 24 years old\n"
     ]
    }
   ],
   "source": [
    "# Example\n",
    "# The string representation of an object WITH the __str__() function:\n",
    "\n",
    "class person:\n",
    "    def __init__(self, name, age):\n",
    "        self.name = name\n",
    "        self.age = age\n",
    "    def __str__(self): # The __str__() function is called when the object is represented as a string\n",
    "        return f\"{self.name} is {self.age} years old\"\n",
    "# creating an object\n",
    "n_a_p = person(\"dhru v chenna\", 24)\n",
    "# printing the object\n",
    "print(n_a_p)"
   ]
  },
  {
   "cell_type": "code",
   "execution_count": null,
   "id": "46a124a1",
   "metadata": {},
   "outputs": [],
   "source": [
    "# The self Parameter\n",
    "# The self parameter is a reference to the current instance of the class, and is used to access variables that belong to the class.\n",
    "\n",
    "# It does not have to be named self, you can call it whatever you like, but it has to be the first parameter of any function in the class:"
   ]
  },
  {
   "cell_type": "code",
   "execution_count": null,
   "id": "dc81aa37",
   "metadata": {},
   "outputs": [
    {
     "name": "stdout",
     "output_type": "stream",
     "text": [
      "The Bread of the animal is Doger Man and Gender is Male\n"
     ]
    }
   ],
   "source": [
    "# Example\n",
    "# Use the words mysillyobject and abc instead of mysillyobject:\n",
    "\n",
    "class animal:\n",
    "    def __init__(mysillyobject, bread, gender): \n",
    "        mysillyobject.bread = bread\n",
    "        mysillyobject.gender = gender\n",
    "\n",
    "    def function(abc):    \n",
    "        print(\"The Bread of the animal is \" + abc.bread + \" and Gender is \" + abc.gender)  #  string concatenation\n",
    "\n",
    "# create an object\n",
    "\n",
    "a = animal(\"Doger Man\", \"Male\")\n",
    "# call the function\n",
    "a.function()    "
   ]
  },
  {
   "cell_type": "code",
   "execution_count": null,
   "id": "02f4fab4",
   "metadata": {},
   "outputs": [
    {
     "name": "stdout",
     "output_type": "stream",
     "text": [
      "The Bread of the animal is Doger Man and Gender is Male\n"
     ]
    }
   ],
   "source": [
    "class animal:\n",
    "    def __init__(mysillyobject, bread, gender): \n",
    "        mysillyobject.bread = bread\n",
    "        mysillyobject.gender = gender\n",
    "\n",
    "    def function(abc):    \n",
    "        print(\"The Bread of the animal is \" + abc.bread + \" and Gender is \" + abc.gender)  #  string concatenation\n",
    "\n",
    "# create an object\n",
    "\n",
    "a = animal(\"Doger Man\", \"Male\")\n",
    "# call the function\n",
    "a.function()   \n"
   ]
  },
  {
   "cell_type": "code",
   "execution_count": 52,
   "id": "ba1ab78a",
   "metadata": {},
   "outputs": [
    {
     "name": "stdout",
     "output_type": "stream",
     "text": [
      "The name of the person is Vivek and age is 24\n"
     ]
    }
   ],
   "source": [
    "class person:\n",
    "    def __init__(self, name, age):\n",
    "        self.name = name \n",
    "        self.age = age\n",
    "    def function(self):\n",
    "        print(f\"The name of the person is {self.name} and age is {self.age}\")\n",
    "\n",
    "# creating an object\n",
    "p = person(\"Vivek\", 24)\n",
    "# calling the function\n",
    "p.function()\n",
    "\n",
    "\n",
    "\n"
   ]
  },
  {
   "cell_type": "code",
   "execution_count": 53,
   "id": "0caeb4eb",
   "metadata": {},
   "outputs": [
    {
     "name": "stdout",
     "output_type": "stream",
     "text": [
      "The name of the person is Vivek and age is 25\n"
     ]
    }
   ],
   "source": [
    "# Modify Object Properties\n",
    "p.age = 25\n",
    "# calling the function again after changing the age \n",
    "p.function()"
   ]
  },
  {
   "cell_type": "code",
   "execution_count": 55,
   "id": "a1444099",
   "metadata": {},
   "outputs": [
    {
     "ename": "AttributeError",
     "evalue": "'person' object has no attribute 'age'",
     "output_type": "error",
     "traceback": [
      "\u001b[31m---------------------------------------------------------------------------\u001b[39m",
      "\u001b[31mAttributeError\u001b[39m                            Traceback (most recent call last)",
      "\u001b[36mCell\u001b[39m\u001b[36m \u001b[39m\u001b[32mIn[55]\u001b[39m\u001b[32m, line 2\u001b[39m\n\u001b[32m      1\u001b[39m \u001b[38;5;66;03m# Delete Object Properties\u001b[39;00m\n\u001b[32m----> \u001b[39m\u001b[32m2\u001b[39m \u001b[38;5;28;01mdel\u001b[39;00m \u001b[43mp\u001b[49m\u001b[43m.\u001b[49m\u001b[43mage\u001b[49m\n",
      "\u001b[31mAttributeError\u001b[39m: 'person' object has no attribute 'age'"
     ]
    }
   ],
   "source": [
    "# Delete Object Properties\n",
    "del p.age\n"
   ]
  },
  {
   "cell_type": "code",
   "execution_count": 62,
   "id": "7a09cd56",
   "metadata": {},
   "outputs": [],
   "source": [
    "# Delete Object Properties"
   ]
  },
  {
   "cell_type": "code",
   "execution_count": 57,
   "id": "e6bbe3c2",
   "metadata": {},
   "outputs": [],
   "source": [
    "del p "
   ]
  },
  {
   "cell_type": "code",
   "execution_count": 61,
   "id": "94349505",
   "metadata": {},
   "outputs": [],
   "source": [
    "#Delete Objects"
   ]
  },
  {
   "cell_type": "code",
   "execution_count": 58,
   "id": "d6075d1f",
   "metadata": {},
   "outputs": [
    {
     "ename": "NameError",
     "evalue": "name 'p' is not defined",
     "output_type": "error",
     "traceback": [
      "\u001b[31m---------------------------------------------------------------------------\u001b[39m",
      "\u001b[31mNameError\u001b[39m                                 Traceback (most recent call last)",
      "\u001b[36mCell\u001b[39m\u001b[36m \u001b[39m\u001b[32mIn[58]\u001b[39m\u001b[32m, line 1\u001b[39m\n\u001b[32m----> \u001b[39m\u001b[32m1\u001b[39m \u001b[43mp\u001b[49m.function()\n",
      "\u001b[31mNameError\u001b[39m: name 'p' is not defined"
     ]
    }
   ],
   "source": [
    "p.function()"
   ]
  },
  {
   "cell_type": "code",
   "execution_count": null,
   "id": "c9336ccb",
   "metadata": {},
   "outputs": [],
   "source": [
    "# # The pass Statement\n",
    "# class definitions cannot be empty, but if you for some reason have a class definition with no content, put in the pass statement to avoid getting an error."
   ]
  },
  {
   "cell_type": "code",
   "execution_count": 63,
   "id": "6239d321",
   "metadata": {},
   "outputs": [],
   "source": [
    "class function:\n",
    "    pass"
   ]
  },
  {
   "cell_type": "code",
   "execution_count": null,
   "id": "e97fd8c4",
   "metadata": {},
   "outputs": [],
   "source": []
  },
  {
   "cell_type": "code",
   "execution_count": null,
   "id": "56c1667f",
   "metadata": {},
   "outputs": [],
   "source": []
  },
  {
   "cell_type": "code",
   "execution_count": null,
   "id": "38ef9831",
   "metadata": {},
   "outputs": [],
   "source": []
  },
  {
   "cell_type": "code",
   "execution_count": null,
   "id": "f0127056",
   "metadata": {},
   "outputs": [],
   "source": []
  },
  {
   "cell_type": "code",
   "execution_count": null,
   "id": "32538b91",
   "metadata": {},
   "outputs": [],
   "source": []
  },
  {
   "cell_type": "code",
   "execution_count": null,
   "id": "e559383d",
   "metadata": {},
   "outputs": [],
   "source": []
  }
 ],
 "metadata": {
  "kernelspec": {
   "display_name": "Python 3",
   "language": "python",
   "name": "python3"
  },
  "language_info": {
   "codemirror_mode": {
    "name": "ipython",
    "version": 3
   },
   "file_extension": ".py",
   "mimetype": "text/x-python",
   "name": "python",
   "nbconvert_exporter": "python",
   "pygments_lexer": "ipython3",
   "version": "3.13.1"
  }
 },
 "nbformat": 4,
 "nbformat_minor": 5
}
