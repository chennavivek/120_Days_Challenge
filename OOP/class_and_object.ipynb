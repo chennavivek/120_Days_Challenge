{
 "cells": [
  {
   "cell_type": "markdown",
   "id": "aa4852c9",
   "metadata": {},
   "source": [
    "# OOPs Concepts\n",
    "1. Class \n",
    "2. Objects\n",
    "3. Inheritance \n",
    "4. Polymorphism\n",
    "5. Abstraction\n",
    "6. Encapsulation "
   ]
  },
  {
   "cell_type": "markdown",
   "id": "231efc8a",
   "metadata": {},
   "source": [
    "What is class?\n",
    "\n",
    "we define (function, methods, variables ) all this inside the class \n",
    "\n",
    "Base Class \n",
    "Drive Class \n",
    "Predefined Class \n"
   ]
  },
  {
   "cell_type": "markdown",
   "id": "ed9483a8",
   "metadata": {},
   "source": [
    "## How to define a Class ?\n",
    "How to create a Class in Python.\n",
    "class classname:\n",
    "    class body "
   ]
  },
  {
   "cell_type": "code",
   "execution_count": 2,
   "id": "e211ee7e",
   "metadata": {},
   "outputs": [
    {
     "name": "stdout",
     "output_type": "stream",
     "text": [
      "<class '__main__.myclass'>\n"
     ]
    }
   ],
   "source": [
    "# How to create a Class?\n",
    "class myclass:\n",
    "    x=10 # property of a class \n",
    "print(myclass)"
   ]
  },
  {
   "cell_type": "markdown",
   "id": "501d7caf",
   "metadata": {},
   "source": [
    "Without an object we can't access class property"
   ]
  },
  {
   "cell_type": "code",
   "execution_count": null,
   "id": "b2a2da2c",
   "metadata": {},
   "outputs": [
    {
     "name": "stdout",
     "output_type": "stream",
     "text": [
      "10 is the value of x\n"
     ]
    }
   ],
   "source": [
    "## How to create an Object ?\n",
    "class myclass:\n",
    "    x=10 # property of a class \n",
    "\n",
    "# creating an object of myclass\n",
    "m = myclass() # m is an object of class myclass\n",
    "print(f'{m.x} is the value of x')"
   ]
  },
  {
   "cell_type": "markdown",
   "id": "c817e458",
   "metadata": {},
   "source": [
    "## Calling a function by object"
   ]
  },
  {
   "cell_type": "code",
   "execution_count": null,
   "id": "f1e51daa",
   "metadata": {},
   "outputs": [
    {
     "ename": "TypeError",
     "evalue": "myclass.myfunction() takes 0 positional arguments but 1 was given",
     "output_type": "error",
     "traceback": [
      "\u001b[31m---------------------------------------------------------------------------\u001b[39m",
      "\u001b[31mTypeError\u001b[39m                                 Traceback (most recent call last)",
      "\u001b[36mCell\u001b[39m\u001b[36m \u001b[39m\u001b[32mIn[5]\u001b[39m\u001b[32m, line 6\u001b[39m\n\u001b[32m      4\u001b[39m \u001b[38;5;66;03m# creating an object\u001b[39;00m\n\u001b[32m      5\u001b[39m m = myclass()\n\u001b[32m----> \u001b[39m\u001b[32m6\u001b[39m \u001b[43mm\u001b[49m\u001b[43m.\u001b[49m\u001b[43mmyfunction\u001b[49m\u001b[43m(\u001b[49m\u001b[43m)\u001b[49m\n",
      "\u001b[31mTypeError\u001b[39m: myclass.myfunction() takes 0 positional arguments but 1 was given"
     ]
    }
   ],
   "source": [
    "class myclass:\n",
    "    def myfunction():  # property of a myclass \n",
    "        print(\"Hello Vivek\")\n",
    "# creating an object\n",
    "m = myclass()\n",
    "m.myfunction()"
   ]
  },
  {
   "cell_type": "markdown",
   "id": "a88b09e7",
   "metadata": {},
   "source": [
    "when we are print or calling a function we have to define (self) in the property of a class "
   ]
  },
  {
   "cell_type": "code",
   "execution_count": null,
   "id": "899199b2",
   "metadata": {},
   "outputs": [
    {
     "name": "stdout",
     "output_type": "stream",
     "text": [
      "Hello Vivek\n"
     ]
    }
   ],
   "source": [
    "class myclass:\n",
    "    def myfunction(self): # property of a myclass\n",
    "        print(\"Hello Vivek\")\n",
    "# creating an object\n",
    "m = myclass()\n",
    "m.myfunction()"
   ]
  },
  {
   "cell_type": "markdown",
   "id": "d7d6e355",
   "metadata": {},
   "source": [
    "## How to create a constructor"
   ]
  },
  {
   "cell_type": "code",
   "execution_count": null,
   "id": "7f64e5fd",
   "metadata": {},
   "outputs": [
    {
     "name": "stdout",
     "output_type": "stream",
     "text": [
      "This is my constructor\n"
     ]
    }
   ],
   "source": [
    "class myclass:\n",
    "    # creating a constuctor\n",
    "    def __init__(self):\n",
    "        print(\"This is my constructor\")\n",
    "# creating an object\n",
    "m = myclass()"
   ]
  },
  {
   "cell_type": "markdown",
   "id": "e6fffcc8",
   "metadata": {},
   "source": [
    "## Change the value by an objects"
   ]
  },
  {
   "cell_type": "code",
   "execution_count": null,
   "id": "3d4c0acd",
   "metadata": {},
   "outputs": [
    {
     "name": "stdout",
     "output_type": "stream",
     "text": [
      "Name: Vivek, Age: 24\n",
      "Age: 26\n"
     ]
    },
    {
     "ename": "AttributeError",
     "evalue": "'myclass' object has no attribute 'age'",
     "output_type": "error",
     "traceback": [
      "\u001b[31m---------------------------------------------------------------------------\u001b[39m",
      "\u001b[31mAttributeError\u001b[39m                            Traceback (most recent call last)",
      "\u001b[36mCell\u001b[39m\u001b[36m \u001b[39m\u001b[32mIn[15]\u001b[39m\u001b[32m, line 23\u001b[39m\n\u001b[32m     21\u001b[39m \u001b[38;5;66;03m# delete the object \u001b[39;00m\n\u001b[32m     22\u001b[39m \u001b[38;5;28;01mdel\u001b[39;00m m.age\n\u001b[32m---> \u001b[39m\u001b[32m23\u001b[39m \u001b[38;5;28mprint\u001b[39m(\u001b[33m\"\u001b[39m\u001b[33mAge: \u001b[39m\u001b[33m\"\u001b[39m,\u001b[43mm\u001b[49m\u001b[43m.\u001b[49m\u001b[43mage\u001b[49m)\n",
      "\u001b[31mAttributeError\u001b[39m: 'myclass' object has no attribute 'age'"
     ]
    }
   ],
   "source": [
    "class myclass:\n",
    "    def __init__(self,name,age):\n",
    "        self.name = name\n",
    "        self.age = age\n",
    "\n",
    "    def myfunction(self):\n",
    "        print(f\"My name is: \"+self.name)\n",
    "\n",
    "# creating an object \n",
    "m = myclass(\"Vivek\",24)\n",
    "# printing the value \n",
    "m.name\n",
    "m.age \n",
    "# printing the both the values\n",
    "print(f\"Name: {m.name}, Age: {m.age}\")      \n",
    "\n",
    "# changing the age using an object  # you can chage the values by object  \n",
    "m.age = 26 \n",
    "print(\"Age:\",m.age)          \n",
    "\n",
    "# delete the object \n",
    "del m.age\n",
    "print(\"Age: \", m.age)\n"
   ]
  },
  {
   "cell_type": "code",
   "execution_count": null,
   "id": "6d931e9d",
   "metadata": {},
   "outputs": [],
   "source": []
  }
 ],
 "metadata": {
  "kernelspec": {
   "display_name": "Python 3",
   "language": "python",
   "name": "python3"
  },
  "language_info": {
   "codemirror_mode": {
    "name": "ipython",
    "version": 3
   },
   "file_extension": ".py",
   "mimetype": "text/x-python",
   "name": "python",
   "nbconvert_exporter": "python",
   "pygments_lexer": "ipython3",
   "version": "3.13.1"
  }
 },
 "nbformat": 4,
 "nbformat_minor": 5
}
