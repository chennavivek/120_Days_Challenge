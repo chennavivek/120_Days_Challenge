{
 "cells": [
  {
   "cell_type": "code",
   "execution_count": null,
   "id": "8b944141",
   "metadata": {},
   "outputs": [],
   "source": [
    "# Encapsulation \n",
    "# Encapsulation is a concept of wrapping data and methods into a single unit called class.\n",
    "# It restricts direct access to some of the object's components and can prevent the accidental modification of data.\n",
    "# Encapsulation helps to achieve data hiding and abstraction in object-oriented programming.\n",
    "\n",
    "# encapsulation means : class -------> Methods and variables\n",
    "# encapsulation is a way to protect the data from outside world and only allow access through public methods.\n",
    "# It is a way to restrict access to the internal state of an object and only allow access through public methods.\n",
    "# It is a way to protect the data from outside world and only allow access through public methods.\n",
    "# It is a way to restrict access to the internal state of an object and only allow access through public methods.\n",
    "# It is a way to protect the data from outside world                    "
   ]
  },
  {
   "cell_type": "code",
   "execution_count": null,
   "id": "6e3d1eb0",
   "metadata": {},
   "outputs": [],
   "source": [
    "# how to achieve encapsulation in python?\n",
    "# 1. By using private variables and methods\n",
    "# 2. By using public methods to access private variables and methods\n",
    "\n",
    "# _single underscore is used to indicate that a variable or method is intended for internal use only.\n",
    "# __double underscore is used to indicate that a variable or method is intended for internal use only\n",
    "# and should not be accessed from outside the class.\n"
   ]
  },
  {
   "cell_type": "code",
   "execution_count": 5,
   "id": "131d78dd",
   "metadata": {},
   "outputs": [
    {
     "ename": "TypeError",
     "evalue": "object.__init__() takes exactly one argument (the instance to initialize)",
     "output_type": "error",
     "traceback": [
      "\u001b[31m---------------------------------------------------------------------------\u001b[39m",
      "\u001b[31mTypeError\u001b[39m                                 Traceback (most recent call last)",
      "\u001b[36mCell\u001b[39m\u001b[36m \u001b[39m\u001b[32mIn[5]\u001b[39m\u001b[32m, line 17\u001b[39m\n\u001b[32m     14\u001b[39m        \u001b[38;5;28mprint\u001b[39m(\u001b[38;5;28mself\u001b[39m.__a)  \u001b[38;5;66;03m# accessing private variable from parent class\u001b[39;00m\n\u001b[32m     16\u001b[39m \u001b[38;5;66;03m# creating an object of the class\u001b[39;00m\n\u001b[32m---> \u001b[39m\u001b[32m17\u001b[39m s = \u001b[43mB\u001b[49m\u001b[43m(\u001b[49m\u001b[32;43m10\u001b[39;49m\u001b[43m)\u001b[49m  \u001b[38;5;66;03m# passing value to the constructor\")\u001b[39;00m\n\u001b[32m     18\u001b[39m s.show()  \u001b[38;5;66;03m# calling public method to access private variable\u001b[39;00m\n",
      "\u001b[36mCell\u001b[39m\u001b[36m \u001b[39m\u001b[32mIn[5]\u001b[39m\u001b[32m, line 11\u001b[39m, in \u001b[36mB.__init__\u001b[39m\u001b[34m(self, b)\u001b[39m\n\u001b[32m     10\u001b[39m \u001b[38;5;28;01mdef\u001b[39;00m\u001b[38;5;250m \u001b[39m\u001b[34m__init__\u001b[39m(\u001b[38;5;28mself\u001b[39m,b):\n\u001b[32m---> \u001b[39m\u001b[32m11\u001b[39m     \u001b[38;5;28;43msuper\u001b[39;49m\u001b[43m(\u001b[49m\u001b[43m)\u001b[49m\u001b[43m.\u001b[49m\u001b[34;43m__init__\u001b[39;49m\u001b[43m(\u001b[49m\u001b[43mb\u001b[49m\u001b[43m)\u001b[49m\n",
      "\u001b[31mTypeError\u001b[39m: object.__init__() takes exactly one argument (the instance to initialize)"
     ]
    }
   ],
   "source": [
    "# acheive encapsulation by using private variables and methods\n",
    "class A:\n",
    "    def __inti__(self,a):\n",
    "        self.__a = a  # private variable   # using double underscore \n",
    "    def show(self):  # public method to access private variable\n",
    "        # priting a private variable using public method\n",
    "        print(\" Private Variable: \", self.__a)\n",
    "\n",
    "class B(A): \n",
    "    def __init__(self,b):\n",
    "        super().__init__(b)  # calling parent class constructor\n",
    "       \n",
    "    def showB(self):  # public method to access private variable\n",
    "       print(self.__a)  # accessing private variable from parent class\n",
    "\n",
    "# creating an object of the class\n",
    "s = B(10)  # passing value to the constructor\")\n",
    "s.show()  # calling public method to access private variable"
   ]
  },
  {
   "cell_type": "code",
   "execution_count": 6,
   "id": "0f3c0116",
   "metadata": {},
   "outputs": [
    {
     "name": "stdout",
     "output_type": "stream",
     "text": [
      " Protected Variable:  20\n"
     ]
    }
   ],
   "source": [
    "# acheive encapsulation by protected variables and methods\n",
    "\n",
    "class  A: # parent class\n",
    "    def __init__(self, a):\n",
    "        self._a = a  # protected variable   # using single underscore \n",
    "    def show(self):  # public method to access protected variable\n",
    "        # priting a protected variable using public method\n",
    "        print(\" Protected Variable: \", self._a)\n",
    "\n",
    "class B(A): # child class\n",
    "    def __init__(self, b):\n",
    "        super().__init__(b)\n",
    "    def showB(self):\n",
    "        print(\"Variable Value: \", self.a)\n",
    "#creating an object of the class\n",
    "obj = B (20)    # passing value to the constructor\n",
    "obj.show()  # calling public method to access protected variable"
   ]
  },
  {
   "cell_type": "code",
   "execution_count": null,
   "id": "4157e962",
   "metadata": {},
   "outputs": [],
   "source": []
  }
 ],
 "metadata": {
  "kernelspec": {
   "display_name": "Python 3",
   "language": "python",
   "name": "python3"
  },
  "language_info": {
   "codemirror_mode": {
    "name": "ipython",
    "version": 3
   },
   "file_extension": ".py",
   "mimetype": "text/x-python",
   "name": "python",
   "nbconvert_exporter": "python",
   "pygments_lexer": "ipython3",
   "version": "3.13.1"
  }
 },
 "nbformat": 4,
 "nbformat_minor": 5
}
