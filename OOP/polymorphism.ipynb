{
 "cells": [
  {
   "cell_type": "markdown",
   "id": "f80f12b5",
   "metadata": {},
   "source": [
    "# Polymorphism "
   ]
  },
  {
   "cell_type": "markdown",
   "id": "92d01dc7",
   "metadata": {},
   "source": [
    "The word \"polymorphism\" means \"many forms\", and in programming it refers to methods/functions/operators with the same name that can be executed on many objects or classes."
   ]
  },
  {
   "cell_type": "markdown",
   "id": "b00201fa",
   "metadata": {},
   "source": [
    "3 child having a same name in a 1 class "
   ]
  },
  {
   "cell_type": "markdown",
   "id": "1cda1afb",
   "metadata": {},
   "source": [
    "2 types of polymorphism:\n",
    "\n",
    "1.compiletime polymorphism\n",
    "  \n",
    "  a. Method Overloading \n",
    "\n",
    "2.Runtime polymorphism\n",
    "  \n",
    "  a. Method Overriding "
   ]
  },
  {
   "cell_type": "code",
   "execution_count": 1,
   "id": "768ab67d",
   "metadata": {},
   "outputs": [
    {
     "ename": "TypeError",
     "evalue": "mo.function() missing 1 required positional argument: 'b'",
     "output_type": "error",
     "traceback": [
      "\u001b[31m---------------------------------------------------------------------------\u001b[39m",
      "\u001b[31mTypeError\u001b[39m                                 Traceback (most recent call last)",
      "\u001b[36mCell\u001b[39m\u001b[36m \u001b[39m\u001b[32mIn[1]\u001b[39m\u001b[32m, line 15\u001b[39m\n\u001b[32m     13\u001b[39m \u001b[38;5;66;03m# ceating an object of class mo \u001b[39;00m\n\u001b[32m     14\u001b[39m m = mo()\n\u001b[32m---> \u001b[39m\u001b[32m15\u001b[39m \u001b[43mm\u001b[49m\u001b[43m.\u001b[49m\u001b[43mfunction\u001b[49m\u001b[43m(\u001b[49m\u001b[32;43m10\u001b[39;49m\u001b[43m)\u001b[49m\n",
      "\u001b[31mTypeError\u001b[39m: mo.function() missing 1 required positional argument: 'b'"
     ]
    }
   ],
   "source": [
    "# Method Overloading\n",
    "\n",
    "class mo:\n",
    "    def function(self):\n",
    "        print(\"Function with o arguments\")\n",
    "class mo:\n",
    "    def function(self, a):\n",
    "        print(\"Function with 1 argument\")\n",
    "class mo:\n",
    "    def function(self, a,b):\n",
    "        print(\"Function with 2 arguments\")\n",
    "\n",
    "# ceating an object of class mo \n",
    "m = mo()\n",
    "m.function(10)"
   ]
  },
  {
   "cell_type": "markdown",
   "id": "36c5716a",
   "metadata": {},
   "source": [
    "Note : Method overloading is not supported in the python because its is interpreted language \n"
   ]
  },
  {
   "cell_type": "code",
   "execution_count": 3,
   "id": "362d4515",
   "metadata": {},
   "outputs": [
    {
     "name": "stdout",
     "output_type": "stream",
     "text": [
      " Class MO3 function called \n",
      " Class MO2 function called \n",
      " Class MO1 function called \n"
     ]
    }
   ],
   "source": [
    "# Method overriding \n",
    "class mo1: # parent class\n",
    "    def function(self,a):\n",
    "        print(\" Class MO1 function called \")\n",
    "\n",
    "class mo2(mo1): # child class\n",
    "    def function(self,a):\n",
    "        print(\" Class MO2 function called \")\n",
    "        # super method calling the method of class mo1\n",
    "        super().function(10)\n",
    "class mo3(mo2): # child class\n",
    "    def function(self,a):\n",
    "        print(\" Class MO3 function called \")\n",
    "        # super method calling the method of class mo1\n",
    "        super().function(10)\n",
    "\n",
    "# creating an object of class mo3 \n",
    "m = mo3()\n",
    "\n",
    "# calling a function\n",
    "m.function(10)"
   ]
  },
  {
   "cell_type": "markdown",
   "id": "af1400f0",
   "metadata": {},
   "source": [
    "Function Polymorphism\n",
    "An example of a Python function that can be used on different objects is the len() function.\n",
    "\n"
   ]
  },
  {
   "cell_type": "code",
   "execution_count": null,
   "id": "cbacfdc6",
   "metadata": {},
   "outputs": [
    {
     "name": "stdout",
     "output_type": "stream",
     "text": [
      "12\n"
     ]
    }
   ],
   "source": [
    "# String\n",
    "# For strings len() returns the number of characters:\n",
    "x = \"hello world\"\n",
    "print(len(x))"
   ]
  },
  {
   "cell_type": "code",
   "execution_count": 5,
   "id": "9fbdfa9b",
   "metadata": {},
   "outputs": [
    {
     "name": "stdout",
     "output_type": "stream",
     "text": [
      "3\n"
     ]
    }
   ],
   "source": [
    "# Tuple\n",
    "# For tuples len() returns the number of items in the tuple:\n",
    "\n",
    "mytuple = (\"apple\", \"banana\", \"cherry\")\n",
    "print(len(mytuple))"
   ]
  },
  {
   "cell_type": "code",
   "execution_count": 6,
   "id": "020055be",
   "metadata": {},
   "outputs": [
    {
     "name": "stdout",
     "output_type": "stream",
     "text": [
      "3\n"
     ]
    }
   ],
   "source": [
    "# Dictionary\n",
    "# For dictionaries len() returns the number of key/value pairs in the dictionary:\n",
    "\n",
    "mydict = {\"name\": \"John\", \"age\": 36, \"country\": \"Norway\"}\n",
    "print(len(mydict))"
   ]
  },
  {
   "cell_type": "markdown",
   "id": "98b3c73a",
   "metadata": {},
   "source": [
    "# Class Polymorphism\n",
    "Polymorphism is often used in Class methods, where we can have multiple classes with the same method name.\n",
    "\n",
    "For example, say we have three classes: Car, Boat, and Plane, and they all have a method called move():"
   ]
  },
  {
   "cell_type": "code",
   "execution_count": null,
   "id": "9d737e73",
   "metadata": {},
   "outputs": [
    {
     "name": "stdout",
     "output_type": "stream",
     "text": [
      "Best car to drive\n",
      "Best boat to use\n",
      "Best Plane to fly\n",
      "Best car to drive\n",
      "Best boat to use\n",
      "Best Plane to fly\n"
     ]
    }
   ],
   "source": [
    "# Different classes with the same method:\n",
    "class Car:\n",
    "    def __init__(self, brand, model):\n",
    "        self.brand = brand\n",
    "        self.model = model \n",
    "    def move(self):\n",
    "        print(\"Best car to drive\")\n",
    "\n",
    "class Boat:\n",
    "    def __init__(self, brand, model):\n",
    "        self.brand = brand\n",
    "        self.model = model \n",
    "    def move(self):\n",
    "        print(\"Best boat to use\")\n",
    "\n",
    "class Plane:\n",
    "    def __init__(self, brand, model):\n",
    "        self.brand = brand\n",
    "        self.model = model \n",
    "    def move(self):\n",
    "        print(\"Best Plane to fly\")\n",
    "\n",
    "# creating an object \n",
    "c = Car(\"Toyota\", \"Land Cruiser\")\n",
    "b = Boat(\"Yamaha\", \"242X\")\n",
    "p = Plane(\"Boeing\", \"747\")\n",
    "\n",
    "# calling the move method\n",
    "c.move()\n",
    "b.move()\n",
    "p.move() \n",
    "\n",
    "# using a for loop to call the move method\n",
    "for x in (c, b, p):\n",
    "  x.move()\n"
   ]
  },
  {
   "cell_type": "code",
   "execution_count": null,
   "id": "f260d362",
   "metadata": {},
   "outputs": [],
   "source": [
    "# Inheritance Class Polymorphism\n",
    "# What about classes with child classes with the same name? Can we use polymorphism there?\n",
    "# Yes. If we use the example above and make a parent class called Vehicle, and make Car, Boat, Plane child classes of Vehicle, the child classes inherits the Vehicle methods, but can override them:"
   ]
  },
  {
   "cell_type": "code",
   "execution_count": null,
   "id": "250ac086",
   "metadata": {},
   "outputs": [
    {
     "name": "stdout",
     "output_type": "stream",
     "text": [
      "Ford\n",
      "Mustang\n",
      "Move!\n",
      "Ibiza\n",
      "Touring 20\n",
      "Sail!\n",
      "Boeing\n",
      "747\n",
      "Fly!\n"
     ]
    }
   ],
   "source": [
    "class Vehicle:\n",
    "  def __init__(self, brand, model):\n",
    "    self.brand = brand\n",
    "    self.model = model\n",
    "\n",
    "  def move(self):\n",
    "    print(\"Move!\")\n",
    "\n",
    "class Car(Vehicle):\n",
    "  pass\n",
    "\n",
    "class Boat(Vehicle):\n",
    "  def move(self):\n",
    "    print(\"Sail!\")\n",
    "\n",
    "class Plane(Vehicle):\n",
    "  def move(self):\n",
    "    print(\"Fly!\")\n",
    "\n",
    "car1 = Car(\"Ford\", \"Mustang\")       #Create a Car object\n",
    "boat1 = Boat(\"Ibiza\", \"Touring 20\") #Create a Boat object\n",
    "plane1 = Plane(\"Boeing\", \"747\")     #Create a Plane object\n",
    "\n",
    "for x in (car1, boat1, plane1):\n",
    "  print(x.brand)\n",
    "  \n",
    "  x.move()"
   ]
  },
  {
   "cell_type": "code",
   "execution_count": null,
   "id": "b1693ab1",
   "metadata": {},
   "outputs": [],
   "source": []
  },
  {
   "cell_type": "code",
   "execution_count": null,
   "id": "71143618",
   "metadata": {},
   "outputs": [],
   "source": []
  }
 ],
 "metadata": {
  "kernelspec": {
   "display_name": "Python 3",
   "language": "python",
   "name": "python3"
  },
  "language_info": {
   "codemirror_mode": {
    "name": "ipython",
    "version": 3
   },
   "file_extension": ".py",
   "mimetype": "text/x-python",
   "name": "python",
   "nbconvert_exporter": "python",
   "pygments_lexer": "ipython3",
   "version": "3.13.1"
  }
 },
 "nbformat": 4,
 "nbformat_minor": 5
}
