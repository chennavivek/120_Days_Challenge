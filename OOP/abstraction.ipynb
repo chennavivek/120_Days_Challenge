{
 "cells": [
  {
   "cell_type": "markdown",
   "id": "c05d3568",
   "metadata": {},
   "source": [
    "Abstraction"
   ]
  },
  {
   "cell_type": "code",
   "execution_count": null,
   "id": "01898d51",
   "metadata": {},
   "outputs": [
    {
     "name": "stdout",
     "output_type": "stream",
     "text": [
      "Dog barks\n",
      "Cay meows\n"
     ]
    }
   ],
   "source": [
    "# \n",
    "class animal: # base class\n",
    "    \"\"\"Base class for all animals\"\"\"\n",
    "    def sound(self): # method to be overridden\n",
    "        \"\"\"Method to make a sound\"\"\"\n",
    "        print(\"Animal makes a sound\")\n",
    "class dog(animal): # derived class\n",
    "    \"\"\"Derived class for Dog\"\"\"\n",
    "    def sound(self):\n",
    "        print(\"Dog barks\")\n",
    "class cat(animal): # derived class\n",
    "    \"\"\"Derived class for Cat\"\"\"\n",
    "    def sound(self):\n",
    "        print(\"Cat meows\")\n",
    "\n",
    "# creating an object of child class\n",
    "d = dog()\n",
    "d.sound()\n",
    "# creating an object of another child class\n",
    "c= cat()\n",
    "c.sound()"
   ]
  },
  {
   "cell_type": "code",
   "execution_count": null,
   "id": "2e9acfbe",
   "metadata": {},
   "outputs": [],
   "source": []
  },
  {
   "cell_type": "code",
   "execution_count": null,
   "id": "a3a4fba9",
   "metadata": {},
   "outputs": [],
   "source": []
  }
 ],
 "metadata": {
  "kernelspec": {
   "display_name": "Python 3",
   "language": "python",
   "name": "python3"
  },
  "language_info": {
   "codemirror_mode": {
    "name": "ipython",
    "version": 3
   },
   "file_extension": ".py",
   "mimetype": "text/x-python",
   "name": "python",
   "nbconvert_exporter": "python",
   "pygments_lexer": "ipython3",
   "version": "3.13.1"
  }
 },
 "nbformat": 4,
 "nbformat_minor": 5
}
