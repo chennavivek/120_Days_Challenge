{
 "cells": [
  {
   "cell_type": "markdown",
   "id": "6676cb8a",
   "metadata": {},
   "source": [
    "# Assignment5: Boardcasting"
   ]
  },
  {
   "cell_type": "markdown",
   "id": "0163d99d",
   "metadata": {},
   "source": [
    "# Q1"
   ]
  },
  {
   "cell_type": "code",
   "execution_count": 2,
   "id": "c8259a49",
   "metadata": {},
   "outputs": [],
   "source": [
    "import numpy as np"
   ]
  },
  {
   "cell_type": "code",
   "execution_count": 5,
   "id": "901a6e82",
   "metadata": {},
   "outputs": [
    {
     "name": "stdout",
     "output_type": "stream",
     "text": [
      "Original Array:\n",
      " [[ 7  8  7]\n",
      " [ 9  3  9]\n",
      " [10  1  7]]\n",
      "1d array: \n",
      " [10  5  5]\n"
     ]
    }
   ],
   "source": [
    "# create a numpy array of shape (3,3) fille with random intergers\n",
    "array = np.random.randint(1,11, size=(3,3))\n",
    "row_array = np.random.randint(1,11, size=(3,))\n",
    "print(f\"Original Array:\\n {array}\")\n",
    "print(f\"1d array: \\n {row_array}\")"
   ]
  },
  {
   "cell_type": "code",
   "execution_count": 6,
   "id": "c1fb2821",
   "metadata": {},
   "outputs": [
    {
     "name": "stdout",
     "output_type": "stream",
     "text": [
      "Resulting array: \n",
      " [[17 13 12]\n",
      " [19  8 14]\n",
      " [20  6 12]]\n"
     ]
    }
   ],
   "source": [
    "# add 1 d aray of shape(3,) to each row of the 2d array using boardcasting\n",
    "result = array + row_array\n",
    "print(f\"Resulting array: \\n {result}\")"
   ]
  },
  {
   "cell_type": "markdown",
   "id": "97a7347a",
   "metadata": {},
   "source": [
    "# Q2"
   ]
  },
  {
   "cell_type": "code",
   "execution_count": 7,
   "id": "83aedbad",
   "metadata": {},
   "outputs": [
    {
     "name": "stdout",
     "output_type": "stream",
     "text": [
      "Original Array:\n",
      " [[ 7 19 17  2]\n",
      " [ 6 15 13  7]\n",
      " [10 18  4  9]\n",
      " [17 12 10 10]]\n",
      "Colunm Array:\n",
      " [ 6 19 18  2]\n"
     ]
    }
   ],
   "source": [
    "# create a numpy array of shape (4,4) filled with random integers\n",
    "array = np.random.randint(1,20, size=(4,4))\n",
    "colunm_array = np.random.randint(1,20, size=(4,))\n",
    "print(f\"Original Array:\\n {array}\")\n",
    "print(f\"Colunm Array:\\n {colunm_array}\")\n"
   ]
  },
  {
   "cell_type": "code",
   "execution_count": 8,
   "id": "eca26ec0",
   "metadata": {},
   "outputs": [
    {
     "name": "stdout",
     "output_type": "stream",
     "text": [
      "Resulting:\n",
      " [[  1   0  -1   0]\n",
      " [  0  -4  -5   5]\n",
      " [  4  -1 -14   7]\n",
      " [ 11  -7  -8   8]]\n"
     ]
    }
   ],
   "source": [
    "# Subtract a 1d array of shape (4,) from each colunm of the 2d array using broadcasting\n",
    "result = array - colunm_array\n",
    "print(f\"Resulting:\\n {result}\")\n",
    "\n",
    "\n"
   ]
  },
  {
   "cell_type": "code",
   "execution_count": null,
   "id": "c7ef816d",
   "metadata": {},
   "outputs": [],
   "source": []
  }
 ],
 "metadata": {
  "kernelspec": {
   "display_name": "Python 3",
   "language": "python",
   "name": "python3"
  },
  "language_info": {
   "codemirror_mode": {
    "name": "ipython",
    "version": 3
   },
   "file_extension": ".py",
   "mimetype": "text/x-python",
   "name": "python",
   "nbconvert_exporter": "python",
   "pygments_lexer": "ipython3",
   "version": "3.13.1"
  }
 },
 "nbformat": 4,
 "nbformat_minor": 5
}
