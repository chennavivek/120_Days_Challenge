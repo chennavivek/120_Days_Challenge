{
 "cells": [
  {
   "cell_type": "markdown",
   "id": "d8dd5ae7",
   "metadata": {},
   "source": [
    "# Assignment10: Masked Arrays "
   ]
  },
  {
   "cell_type": "markdown",
   "id": "a583e8a6",
   "metadata": {},
   "source": [
    "# Q1"
   ]
  },
  {
   "cell_type": "code",
   "execution_count": 6,
   "id": "9016bc20",
   "metadata": {},
   "outputs": [],
   "source": [
    "import numpy as np\n",
    "import numpy.ma as ma\n"
   ]
  },
  {
   "cell_type": "code",
   "execution_count": 8,
   "id": "05888b7b",
   "metadata": {},
   "outputs": [
    {
     "name": "stdout",
     "output_type": "stream",
     "text": [
      "Original Array:\n",
      "[[18 18  1  4]\n",
      " [14  2  2 20]\n",
      " [ 4  8  3 18]\n",
      " [18  8 19 20]]\n",
      "Masked Array:\n",
      "[[-- -- 1 4]\n",
      " [-- 2 2 --]\n",
      " [4 8 3 --]\n",
      " [-- 8 -- --]]\n"
     ]
    }
   ],
   "source": [
    "# create a masked array of shape (4,4) with random integers\n",
    "array = np.random.randint(1,21, size=(4,4))\n",
    "masked_array = ma.masked_greater(array, 10)\n",
    "print(f\"Original Array:\\n{array}\")\n",
    "print(\"Masked Array:\")\n",
    "print(masked_array)"
   ]
  },
  {
   "cell_type": "code",
   "execution_count": 10,
   "id": "4dda91da",
   "metadata": {},
   "outputs": [
    {
     "name": "stdout",
     "output_type": "stream",
     "text": [
      "Sum of unmasked elements:32\n"
     ]
    }
   ],
   "source": [
    "# compute the sum of the unmasked elements\n",
    "sum_unmasked = masked_array.sum()\n",
    "print(f\"Sum of unmasked elements:{sum_unmasked}\")"
   ]
  },
  {
   "cell_type": "markdown",
   "id": "29b503c4",
   "metadata": {},
   "source": [
    "# Q2"
   ]
  },
  {
   "cell_type": "code",
   "execution_count": 13,
   "id": "f6ab2b67",
   "metadata": {},
   "outputs": [
    {
     "name": "stdout",
     "output_type": "stream",
     "text": [
      "Original Array:\n",
      "[[2 2 1]\n",
      " [5 1 7]\n",
      " [9 6 8]]\n",
      "Masked Array:\n",
      "[[-- 2 1]\n",
      " [5 -- 7]\n",
      " [9 6 --]]\n"
     ]
    }
   ],
   "source": [
    "# create a masked array of shape (3,3) with random integers and mask the diagonal elements\n",
    "array = np.random.randint(1,10, size=(3,3))\n",
    "masked_dia_array = ma.masked_array(array, mask=np.eye(3, dtype=bool))\n",
    "print(\"Original Array:\")\n",
    "print(array)\n",
    "print(\"Masked Array:\")\n",
    "print(masked_dia_array)\n",
    "\n"
   ]
  },
  {
   "cell_type": "code",
   "execution_count": 14,
   "id": "61b0f683",
   "metadata": {},
   "outputs": [
    {
     "name": "stdout",
     "output_type": "stream",
     "text": [
      "Mean Masked:\n",
      "6.166666666666667\n",
      "Masked Array:\n",
      "[[6 9 5]\n",
      " [1 6 6]\n",
      " [9 7 6]]\n"
     ]
    }
   ],
   "source": [
    "# Replace a masked elements with the mean of the unmasked elements\n",
    "mean_masked = masked_array.mean()\n",
    "masked_array = masked_array.filled(mean_masked)\n",
    "print(\"Mean Masked:\")\n",
    "print(mean_masked)\n",
    "print(\"Masked Array:\")\n",
    "print(masked_array)"
   ]
  },
  {
   "cell_type": "code",
   "execution_count": null,
   "id": "158efa61",
   "metadata": {},
   "outputs": [],
   "source": []
  }
 ],
 "metadata": {
  "kernelspec": {
   "display_name": "Python 3",
   "language": "python",
   "name": "python3"
  },
  "language_info": {
   "codemirror_mode": {
    "name": "ipython",
    "version": 3
   },
   "file_extension": ".py",
   "mimetype": "text/x-python",
   "name": "python",
   "nbconvert_exporter": "python",
   "pygments_lexer": "ipython3",
   "version": "3.13.1"
  }
 },
 "nbformat": 4,
 "nbformat_minor": 5
}
