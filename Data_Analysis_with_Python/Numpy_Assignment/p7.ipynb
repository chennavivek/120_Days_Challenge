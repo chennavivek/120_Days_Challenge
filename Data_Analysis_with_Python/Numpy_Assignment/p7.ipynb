{
 "cells": [
  {
   "cell_type": "markdown",
   "id": "232abcb3",
   "metadata": {},
   "source": [
    "# Assignment7: Advanced Array Manipulation"
   ]
  },
  {
   "cell_type": "markdown",
   "id": "3fd185f3",
   "metadata": {},
   "source": [
    "# Q1"
   ]
  },
  {
   "cell_type": "code",
   "execution_count": 1,
   "id": "246225ec",
   "metadata": {},
   "outputs": [],
   "source": [
    "import numpy as np"
   ]
  },
  {
   "cell_type": "code",
   "execution_count": 2,
   "id": "8e8616d2",
   "metadata": {},
   "outputs": [
    {
     "name": "stdout",
     "output_type": "stream",
     "text": [
      "Original Array:\n",
      "[[1 2 3]\n",
      " [4 5 6]\n",
      " [7 8 9]]\n"
     ]
    }
   ],
   "source": [
    "# create a umpy array of shape (3,3) with values from 1 to 9\n",
    "array = np.arange(1,10).reshape((3,3))\n",
    "print(f\"Original Array:\\n{array}\")"
   ]
  },
  {
   "cell_type": "code",
   "execution_count": 4,
   "id": "788ce37d",
   "metadata": {},
   "outputs": [
    {
     "name": "stdout",
     "output_type": "stream",
     "text": [
      "Reshaped Array1:\n",
      "[[1 2 3 4 5 6 7 8 9]] \n"
     ]
    }
   ],
   "source": [
    "# Reshape the array to shape (1,9)\n",
    "reshaped_array1 = array.reshape((1,9))\n",
    "print(f\"Reshaped Array1:\\n{reshaped_array1} \")\n"
   ]
  },
  {
   "cell_type": "code",
   "execution_count": 5,
   "id": "63d09f5e",
   "metadata": {},
   "outputs": [
    {
     "name": "stdout",
     "output_type": "stream",
     "text": [
      "Reshaped Array2:\n",
      "[[1]\n",
      " [2]\n",
      " [3]\n",
      " [4]\n",
      " [5]\n",
      " [6]\n",
      " [7]\n",
      " [8]\n",
      " [9]] \n"
     ]
    }
   ],
   "source": [
    "# Reshape the array to shape (9,1)\n",
    "reshaped_array2 = array.reshape((9,1))\n",
    "print(f\"Reshaped Array2:\\n{reshaped_array2} \")"
   ]
  },
  {
   "cell_type": "markdown",
   "id": "3281d99e",
   "metadata": {},
   "source": [
    "# Q2"
   ]
  },
  {
   "cell_type": "code",
   "execution_count": 6,
   "id": "2e891e4d",
   "metadata": {},
   "outputs": [
    {
     "name": "stdout",
     "output_type": "stream",
     "text": [
      "Original Array:\n",
      " [[ 5 19  8 23 10]\n",
      " [23 12 23  6 13]\n",
      " [ 2  6 19  7 18]\n",
      " [20  8  6 19 11]\n",
      " [15  1 18 23 20]]\n"
     ]
    }
   ],
   "source": [
    "# Create a numpy array of shape (5,5) filles with random intergers\n",
    "array = np.random.randint(1,26, size=(5,5))\n",
    "print(f\"Original Array:\\n {array}\")\n"
   ]
  },
  {
   "cell_type": "code",
   "execution_count": 7,
   "id": "3c1bab5c",
   "metadata": {},
   "outputs": [
    {
     "name": "stdout",
     "output_type": "stream",
     "text": [
      "Flattened Array:\n",
      "[ 5 19  8 23 10 23 12 23  6 13  2  6 19  7 18 20  8  6 19 11 15  1 18 23\n",
      " 20]\n"
     ]
    }
   ],
   "source": [
    "# Flatten the array\n",
    "flattened_array = array.flatten()\n",
    "print(f\"Flattened Array:\\n{flattened_array}\")"
   ]
  },
  {
   "cell_type": "code",
   "execution_count": 8,
   "id": "73fe3bc6",
   "metadata": {},
   "outputs": [
    {
     "name": "stdout",
     "output_type": "stream",
     "text": [
      "Reshaped Array:\n",
      "[[ 5 19  8 23 10]\n",
      " [23 12 23  6 13]\n",
      " [ 2  6 19  7 18]\n",
      " [20  8  6 19 11]\n",
      " [15  1 18 23 20]]\n"
     ]
    }
   ],
   "source": [
    "# Reshape the array back to (5,5)\n",
    "reshaped_array = flattened_array.reshape((5,5))\n",
    "print(f\"Reshaped Array:\\n{reshaped_array}\")"
   ]
  },
  {
   "cell_type": "code",
   "execution_count": null,
   "id": "cd60abc5",
   "metadata": {},
   "outputs": [],
   "source": []
  }
 ],
 "metadata": {
  "kernelspec": {
   "display_name": "Python 3",
   "language": "python",
   "name": "python3"
  },
  "language_info": {
   "codemirror_mode": {
    "name": "ipython",
    "version": 3
   },
   "file_extension": ".py",
   "mimetype": "text/x-python",
   "name": "python",
   "nbconvert_exporter": "python",
   "pygments_lexer": "ipython3",
   "version": "3.13.1"
  }
 },
 "nbformat": 4,
 "nbformat_minor": 5
}
