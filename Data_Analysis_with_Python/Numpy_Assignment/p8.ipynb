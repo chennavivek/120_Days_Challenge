{
 "cells": [
  {
   "cell_type": "markdown",
   "id": "13ba3d70",
   "metadata": {},
   "source": [
    "# Assignment8: Fancy Indexing and Boolean Indexing\n"
   ]
  },
  {
   "cell_type": "markdown",
   "id": "aa762a56",
   "metadata": {},
   "source": [
    "# Q1"
   ]
  },
  {
   "cell_type": "code",
   "execution_count": 2,
   "id": "9ff75008",
   "metadata": {},
   "outputs": [],
   "source": [
    "import numpy as np"
   ]
  },
  {
   "cell_type": "code",
   "execution_count": 3,
   "id": "c3767f82",
   "metadata": {},
   "outputs": [
    {
     "name": "stdout",
     "output_type": "stream",
     "text": [
      "Original Array:\n",
      " [[12  2  7  2 10]\n",
      " [12  5 13 15 13]\n",
      " [18  2  6 20  7]\n",
      " [17 15  5 17 10]\n",
      " [16 11 16 13  9]]\n"
     ]
    }
   ],
   "source": [
    "# create a nummpy array of shape (5,5) filled with random integers\n",
    "array = np.random.randint(1, 21, size=(5,5))\n",
    "print(f\"Original Array:\\n {array}\")"
   ]
  },
  {
   "cell_type": "markdown",
   "id": "d867aa98",
   "metadata": {},
   "source": [
    "These four corner values are then stored in a new one-dimensional array called corners."
   ]
  },
  {
   "cell_type": "code",
   "execution_count": 4,
   "id": "15cf0e37",
   "metadata": {},
   "outputs": [],
   "source": [
    "# use fancy indexing to extract the elements at the corners of the array\n",
    "#  top-left, top-right, bottom-left, and bottom-right positions\n",
    "corners = array[[0,0,-1,-1],[0,-1,0,-1]]"
   ]
  },
  {
   "cell_type": "markdown",
   "id": "2b5bdfe2",
   "metadata": {},
   "source": [
    "# Q2"
   ]
  },
  {
   "cell_type": "code",
   "execution_count": 5,
   "id": "49f1cc86",
   "metadata": {},
   "outputs": [
    {
     "name": "stdout",
     "output_type": "stream",
     "text": [
      "Original Array:\n",
      " [[17 17 17  4]\n",
      " [16 14  2  5]\n",
      " [11  1 18  1]\n",
      " [15  6  4 16]]\n"
     ]
    }
   ],
   "source": [
    "# create a numpy array of shape (4,4) filled with random integers\n",
    "array = np.random.randint(1,21, size=(4,4))\n",
    "print(f\"Original Array:\\n {array}\")"
   ]
  },
  {
   "cell_type": "code",
   "execution_count": 6,
   "id": "bd98376b",
   "metadata": {},
   "outputs": [
    {
     "name": "stdout",
     "output_type": "stream",
     "text": [
      "Modified Array:\n",
      "[[10 10 10  4]\n",
      " [10 10  2  5]\n",
      " [10  1 10  1]\n",
      " [10  6  4 10]]\n"
     ]
    }
   ],
   "source": [
    "# use boolean indexing to set all elements greater than 10 to 10 \n",
    "array[array>10]=10\n",
    "print(f\"Modified Array:\\n{array}\")"
   ]
  },
  {
   "cell_type": "code",
   "execution_count": null,
   "id": "03143e10",
   "metadata": {},
   "outputs": [],
   "source": []
  }
 ],
 "metadata": {
  "kernelspec": {
   "display_name": "Python 3",
   "language": "python",
   "name": "python3"
  },
  "language_info": {
   "codemirror_mode": {
    "name": "ipython",
    "version": 3
   },
   "file_extension": ".py",
   "mimetype": "text/x-python",
   "name": "python",
   "nbconvert_exporter": "python",
   "pygments_lexer": "ipython3",
   "version": "3.13.1"
  }
 },
 "nbformat": 4,
 "nbformat_minor": 5
}
