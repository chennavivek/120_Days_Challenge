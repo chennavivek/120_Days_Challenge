{
 "cells": [
  {
   "cell_type": "markdown",
   "id": "58fac71f",
   "metadata": {},
   "source": [
    "# Assignnment2: Array Indexing and Slicing "
   ]
  },
  {
   "cell_type": "markdown",
   "id": "07f514df",
   "metadata": {},
   "source": [
    "# Q1\n"
   ]
  },
  {
   "cell_type": "code",
   "execution_count": null,
   "id": "85b438fc",
   "metadata": {},
   "outputs": [],
   "source": [
    "import numpy as np"
   ]
  },
  {
   "cell_type": "code",
   "execution_count": null,
   "id": "fdc17fe4",
   "metadata": {},
   "outputs": [
    {
     "name": "stdout",
     "output_type": "stream",
     "text": [
      "Original Array:\n",
      "[[ 1  2  3  4  5  6]\n",
      " [ 7  8  9 10 11 12]\n",
      " [13 14 15 16 17 18]\n",
      " [19 20 21 22 23 24]\n",
      " [25 26 27 28 29 30]\n",
      " [31 32 33 34 35 36]]\n"
     ]
    }
   ],
   "source": [
    "# Create a numpy array of sha[e (6, 6) with values from 1 to 36]\n",
    "array = np.arange(1,37).reshape((6,6))\n",
    "print(\"Original Array:\")\n",
    "print(array)\n"
   ]
  },
  {
   "cell_type": "code",
   "execution_count": 4,
   "id": "0ac63649",
   "metadata": {},
   "outputs": [
    {
     "name": "stdout",
     "output_type": "stream",
     "text": [
      "Original Array:\n",
      "[[14 15 16]\n",
      " [20 21 22]\n",
      " [26 27 28]]\n"
     ]
    }
   ],
   "source": [
    "# Extract the sub-array\n",
    "sub_array = array[2:5, 1:4]\n",
    "print(\"Original Array:\")\n",
    "print(sub_array)"
   ]
  },
  {
   "cell_type": "markdown",
   "id": "cbcc1327",
   "metadata": {},
   "source": [
    "# Q2"
   ]
  },
  {
   "cell_type": "code",
   "execution_count": 6,
   "id": "2714c67a",
   "metadata": {},
   "outputs": [
    {
     "name": "stdout",
     "output_type": "stream",
     "text": [
      "Original Array:\n",
      "[[55 37 47 40 65]\n",
      " [ 7 66 42 89 46]\n",
      " [69 21 92 15 67]\n",
      " [41 33  8 80 84]\n",
      " [52 82 40 83 81]]\n"
     ]
    }
   ],
   "source": [
    "# Create a numpy array of shape (5,5) with random integers\n",
    "array = np.random.randint(1, 100, size=(5,5))\n",
    "print(\"Original Array:\")\n",
    "print(array)\n"
   ]
  },
  {
   "cell_type": "code",
   "execution_count": 7,
   "id": "517ebfd9",
   "metadata": {},
   "outputs": [
    {
     "name": "stdout",
     "output_type": "stream",
     "text": [
      "Border Elements:\n",
      "[55 37 47 40 65 52 82 40 83 81  7 69 41 46 67 84]\n"
     ]
    }
   ],
   "source": [
    "# Extract the elements on the brorder of the array\n",
    "border_elements = np.concatenate((array[0, :], array[-1,:], array[1:-1, 0], array[1:-1, -1] ))\n",
    "print(\"Border Elements:\")\n",
    "print(border_elements)"
   ]
  },
  {
   "cell_type": "markdown",
   "id": "e03d01e6",
   "metadata": {},
   "source": [
    "array[0, :] selects all elements in the first row.\n",
    "\n",
    "array[-1, :] selects all elements in the last row.\n",
    "\n",
    "array[1:-1, 0] selects the first element of each row except the first and last rows (the left border).\n",
    "\n",
    "array[1:-1, -1] selects the last element of each row except the first and last rows (the right border)."
   ]
  },
  {
   "cell_type": "markdown",
   "id": "ee24e966",
   "metadata": {},
   "source": []
  }
 ],
 "metadata": {
  "kernelspec": {
   "display_name": "Python 3",
   "language": "python",
   "name": "python3"
  },
  "language_info": {
   "codemirror_mode": {
    "name": "ipython",
    "version": 3
   },
   "file_extension": ".py",
   "mimetype": "text/x-python",
   "name": "python",
   "nbconvert_exporter": "python",
   "pygments_lexer": "ipython3",
   "version": "3.13.1"
  }
 },
 "nbformat": 4,
 "nbformat_minor": 5
}
