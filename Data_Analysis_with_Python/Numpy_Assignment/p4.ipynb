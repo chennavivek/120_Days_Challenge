{
 "cells": [
  {
   "cell_type": "markdown",
   "id": "2d9cf992",
   "metadata": {},
   "source": [
    "# Assignment4: Statistical Operations"
   ]
  },
  {
   "cell_type": "markdown",
   "id": "ad310037",
   "metadata": {},
   "source": [
    "# Q1"
   ]
  },
  {
   "cell_type": "code",
   "execution_count": 2,
   "id": "7f575218",
   "metadata": {},
   "outputs": [],
   "source": [
    "import numpy as np"
   ]
  },
  {
   "cell_type": "code",
   "execution_count": 3,
   "id": "8fdcdd82",
   "metadata": {},
   "outputs": [
    {
     "name": "stdout",
     "output_type": "stream",
     "text": [
      "Original Array: \n",
      "[[ 2  8 13 14 16]\n",
      " [14  1  1 16 20]\n",
      " [18  6 13 19 14]\n",
      " [18  5  5 10  5]\n",
      " [18 11 10  5 11]]\n"
     ]
    }
   ],
   "source": [
    "# create a numpy array of shape (5,5) filled with random integers\n",
    "array = np.random.randint(1,21, size=(5,5))\n",
    "print(\"Original Array: \")\n",
    "print(array)"
   ]
  },
  {
   "cell_type": "code",
   "execution_count": 7,
   "id": "f021d541",
   "metadata": {},
   "outputs": [
    {
     "name": "stdout",
     "output_type": "stream",
     "text": [
      "Mean: 10.92\n",
      "Median: 11.0\n",
      "Standard Deviation: 5.789093193238472\n",
      "Variance: 33.513600000000004\n"
     ]
    }
   ],
   "source": [
    "# compute the mean, median, standard deviation and variance of the array\n",
    "mean = np.mean(array)\n",
    "median = np.median(array)\n",
    "stnd_dev = np.std(array)\n",
    "variance = np.var(array)\n",
    "\n",
    "print(\"Mean:\", mean)\n",
    "print(\"Median:\",median)\n",
    "print(\"Standard Deviation:\", stnd_dev)\n",
    "print(\"Variance:\", variance)"
   ]
  },
  {
   "cell_type": "markdown",
   "id": "91b549d2",
   "metadata": {},
   "source": [
    "# Q2"
   ]
  },
  {
   "cell_type": "code",
   "execution_count": 8,
   "id": "75e74f75",
   "metadata": {},
   "outputs": [
    {
     "name": "stdout",
     "output_type": "stream",
     "text": [
      "Original Array:\n",
      "[[1 2 3]\n",
      " [4 5 6]\n",
      " [7 8 9]]\n"
     ]
    }
   ],
   "source": [
    "# create a numpy array of shape (3, 3) with value from 1 to 9\n",
    "array = np.arange(1,10).reshape(3, 3)\n",
    "print(\"Original Array:\")\n",
    "print(array)"
   ]
  },
  {
   "cell_type": "code",
   "execution_count": 9,
   "id": "cb1dd08f",
   "metadata": {},
   "outputs": [
    {
     "name": "stdout",
     "output_type": "stream",
     "text": [
      "Normalize array\n",
      "[[-1.54919334 -1.161895   -0.77459667]\n",
      " [-0.38729833  0.          0.38729833]\n",
      " [ 0.77459667  1.161895    1.54919334]]\n"
     ]
    }
   ],
   "source": [
    "# Normalize the array\n",
    "mean = np.mean(array)\n",
    "std_dev = np.std(array)\n",
    "normalize = (array-mean) / std_dev\n",
    "print(\"Normalize array\")\n",
    "print(normalize)"
   ]
  },
  {
   "cell_type": "code",
   "execution_count": null,
   "id": "8543663d",
   "metadata": {},
   "outputs": [],
   "source": []
  }
 ],
 "metadata": {
  "kernelspec": {
   "display_name": "Python 3",
   "language": "python",
   "name": "python3"
  },
  "language_info": {
   "codemirror_mode": {
    "name": "ipython",
    "version": 3
   },
   "file_extension": ".py",
   "mimetype": "text/x-python",
   "name": "python",
   "nbconvert_exporter": "python",
   "pygments_lexer": "ipython3",
   "version": "3.13.1"
  }
 },
 "nbformat": 4,
 "nbformat_minor": 5
}
