{
 "cells": [
  {
   "cell_type": "markdown",
   "id": "bf802ee3",
   "metadata": {},
   "source": [
    "# Assignment6: Linear Algebra"
   ]
  },
  {
   "cell_type": "markdown",
   "id": "7c34e79f",
   "metadata": {},
   "source": [
    "# Q1"
   ]
  },
  {
   "cell_type": "code",
   "execution_count": 2,
   "id": "09aabd7d",
   "metadata": {},
   "outputs": [],
   "source": [
    "import numpy as np"
   ]
  },
  {
   "cell_type": "code",
   "execution_count": 3,
   "id": "d2e0e671",
   "metadata": {},
   "outputs": [
    {
     "name": "stdout",
     "output_type": "stream",
     "text": [
      "Original Matrix Array:\n",
      " [[ 4  7  8]\n",
      " [ 9  6  6]\n",
      " [ 1  6 10]]\n"
     ]
    }
   ],
   "source": [
    "# create a numpy array of shape(3,3) represent a matrix\n",
    "matrix = np.random.randint(1,11 , size=(3,3))\n",
    "print(f\"Original Matrix Array:\\n {matrix}\")"
   ]
  },
  {
   "cell_type": "code",
   "execution_count": 4,
   "id": "009ebe1a",
   "metadata": {},
   "outputs": [
    {
     "name": "stdout",
     "output_type": "stream",
     "text": [
      "Determinant:\n",
      "-108.00000000000003\n"
     ]
    }
   ],
   "source": [
    "# compute its determinant\n",
    "determinant = np.linalg.det(matrix)\n",
    "print(f\"Determinant:\\n{determinant}\")"
   ]
  },
  {
   "cell_type": "code",
   "execution_count": 5,
   "id": "a0af5231",
   "metadata": {},
   "outputs": [
    {
     "name": "stdout",
     "output_type": "stream",
     "text": [
      "Inverse:\n",
      "[[-0.22222222  0.2037037   0.05555556]\n",
      " [ 0.77777778 -0.2962963  -0.44444444]\n",
      " [-0.44444444  0.15740741  0.36111111]]\n"
     ]
    }
   ],
   "source": [
    "# compute its inverse \n",
    "inverse = np.linalg.inv(matrix)\n",
    "print(f\"Inverse:\\n{inverse}\")"
   ]
  },
  {
   "cell_type": "code",
   "execution_count": null,
   "id": "95fcfbb8",
   "metadata": {},
   "outputs": [
    {
     "name": "stdout",
     "output_type": "stream",
     "text": [
      "Eigenvalues:\n",
      "[-1.8673861   3.07807144 18.78931466]\n"
     ]
    }
   ],
   "source": [
    "# compute its eigenvalues\n",
    "eng = np.linalg.eigvals(matrix) \n",
    "print(f\"Eigenvalues:\\n{eng}\")"
   ]
  },
  {
   "cell_type": "markdown",
   "id": "0134e2fc",
   "metadata": {},
   "source": [
    "# Q2"
   ]
  },
  {
   "cell_type": "code",
   "execution_count": 8,
   "id": "1f5fd310",
   "metadata": {},
   "outputs": [
    {
     "name": "stdout",
     "output_type": "stream",
     "text": [
      "Original Array1:\n",
      "[[12  5  6]\n",
      " [17 12 18]] \n",
      "Original Array2:\n",
      "[[ 1 16]\n",
      " [ 2 14]\n",
      " [ 9 11]] \n"
     ]
    }
   ],
   "source": [
    "# create a two numpy arrays of shape(2,3) and (3,2)\n",
    "array1 = np.random.randint(1,20 , size=(2,3))\n",
    "array2 = np.random.randint(1,20, size=(3,2))\n",
    "print(f\"Original Array1:\\n{array1} \")\n",
    "print(f\"Original Array2:\\n{array2} \")\n"
   ]
  },
  {
   "cell_type": "code",
   "execution_count": 10,
   "id": "bdce9570",
   "metadata": {},
   "outputs": [
    {
     "name": "stdout",
     "output_type": "stream",
     "text": [
      "Multiplication of two Array is:\n",
      "[[ 76 328]\n",
      " [203 638]] \n"
     ]
    }
   ],
   "source": [
    "# perform matrix multiplication on these arrays\n",
    "mul = np.dot(array1 , array2)\n",
    "print(f\"Multiplication of two Array is:\\n{mul} \")\n"
   ]
  },
  {
   "cell_type": "code",
   "execution_count": null,
   "id": "5c59e577",
   "metadata": {},
   "outputs": [],
   "source": []
  }
 ],
 "metadata": {
  "kernelspec": {
   "display_name": "Python 3",
   "language": "python",
   "name": "python3"
  },
  "language_info": {
   "codemirror_mode": {
    "name": "ipython",
    "version": 3
   },
   "file_extension": ".py",
   "mimetype": "text/x-python",
   "name": "python",
   "nbconvert_exporter": "python",
   "pygments_lexer": "ipython3",
   "version": "3.13.1"
  }
 },
 "nbformat": 4,
 "nbformat_minor": 5
}
