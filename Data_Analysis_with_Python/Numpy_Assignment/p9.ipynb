{
 "cells": [
  {
   "cell_type": "markdown",
   "id": "be15f503",
   "metadata": {},
   "source": [
    "# Assignment9: Structured Arrays"
   ]
  },
  {
   "cell_type": "markdown",
   "id": "e750131e",
   "metadata": {},
   "source": [
    "# Q1"
   ]
  },
  {
   "cell_type": "code",
   "execution_count": 3,
   "id": "3abcb589",
   "metadata": {},
   "outputs": [],
   "source": [
    "import numpy as np"
   ]
  },
  {
   "cell_type": "code",
   "execution_count": null,
   "id": "3bd5579c",
   "metadata": {},
   "outputs": [
    {
     "name": "stdout",
     "output_type": "stream",
     "text": [
      "Original Array:\n",
      "[('Vivek',  24, 80.) ('dhrulaxmi',  24, 55.) ('love', 100, 99.)]\n"
     ]
    }
   ],
   "source": [
    "# create a structured array with fields 'name',\"str\", 'age',\"int\", and 'weight',\"float\"\n",
    "data_type = [('name','U10'), ('age','i4'), ('weight','f4')]\n",
    "#In the structured array data type:\n",
    "\"\"\"\n",
    "'U10' means a Unicode string with a maximum length of 10 characters.\n",
    "'i4' means a 4-byte (32-bit) integer.\n",
    "'f4' means a 4-byte (32-bit) floating-point number.\n",
    "\"\"\"\n",
    "# add the data \n",
    "data = np.array([('Vivek',24,80),(\"dhrulaxmi\",24,55),(\"love\",100,99)],dtype=data_type)\n",
    "print(f\"Original Array:\\n{data}\")\n"
   ]
  },
  {
   "cell_type": "code",
   "execution_count": 6,
   "id": "102b863a",
   "metadata": {},
   "outputs": [
    {
     "name": "stdout",
     "output_type": "stream",
     "text": [
      "Sorted array by age:\n",
      "[('Vivek',  24, 80.) ('dhrulaxmi',  24, 55.) ('love', 100, 99.)]\n"
     ]
    }
   ],
   "source": [
    "# sort the array by age\n",
    "sorted_data = np.sort(data, order='age')\n",
    "print(f\"Sorted array by age:\\n{sorted_data}\")"
   ]
  },
  {
   "cell_type": "markdown",
   "id": "3e461bc2",
   "metadata": {},
   "source": [
    "# Q2"
   ]
  },
  {
   "cell_type": "code",
   "execution_count": 9,
   "id": "70e6d3e1",
   "metadata": {},
   "outputs": [
    {
     "name": "stdout",
     "output_type": "stream",
     "text": [
      "Original Array:\n",
      "[(1, 2) (3, 4) (5, 6)]\n"
     ]
    }
   ],
   "source": [
    "# create a structured array with fields 'x' and 'y' (both integers)\n",
    "data_type = [('x', 'i4'), ('y', 'i4')]\n",
    "data = np.array([(1,2), (3,4), (5,6)], dtype=data_type)\n",
    "print(f\"Original Array:\\n{data}\")"
   ]
  },
  {
   "cell_type": "code",
   "execution_count": null,
   "id": "da62964b",
   "metadata": {},
   "outputs": [
    {
     "name": "stdout",
     "output_type": "stream",
     "text": [
      "Euclidean distances:\n",
      "[[0.         2.82842712 5.65685425]\n",
      " [2.82842712 0.         2.82842712]\n",
      " [5.65685425 2.82842712 0.        ]]\n"
     ]
    }
   ],
   "source": [
    "# compute the eucliden distance between each pair of points \n",
    "distance = np.sqrt((data['x'][:, np.newaxis] - data['x'])**2 + (data['y'][:, np.newaxis] - data['y'])**2)\n",
    "print(\"Euclidean distances:\")\n",
    "print(distances)\n",
    "\n",
    "# formula to find the eucliden distance : sqrt((x1-x2)**2 + (y1-y2)**2)"
   ]
  },
  {
   "cell_type": "code",
   "execution_count": null,
   "id": "c065e448",
   "metadata": {},
   "outputs": [],
   "source": []
  }
 ],
 "metadata": {
  "kernelspec": {
   "display_name": "Python 3",
   "language": "python",
   "name": "python3"
  },
  "language_info": {
   "codemirror_mode": {
    "name": "ipython",
    "version": 3
   },
   "file_extension": ".py",
   "mimetype": "text/x-python",
   "name": "python",
   "nbconvert_exporter": "python",
   "pygments_lexer": "ipython3",
   "version": "3.13.1"
  }
 },
 "nbformat": 4,
 "nbformat_minor": 5
}
