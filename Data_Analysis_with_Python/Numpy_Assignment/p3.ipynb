{
 "cells": [
  {
   "cell_type": "markdown",
   "id": "afb2a0e8",
   "metadata": {},
   "source": [
    "# Assignment3: Array Operations"
   ]
  },
  {
   "cell_type": "markdown",
   "id": "79468a6a",
   "metadata": {},
   "source": [
    "# Q1"
   ]
  },
  {
   "cell_type": "code",
   "execution_count": 6,
   "id": "cf31a170",
   "metadata": {},
   "outputs": [],
   "source": [
    "import numpy as np"
   ]
  },
  {
   "cell_type": "code",
   "execution_count": 7,
   "id": "8b6c4046",
   "metadata": {},
   "outputs": [
    {
     "name": "stdout",
     "output_type": "stream",
     "text": [
      "Array 1:\n",
      "[[ 1 10  9  4]\n",
      " [ 8  1  3  4]\n",
      " [ 7  4  6  5]]\n",
      "Array 2:\n",
      "[[ 6  9 10  7]\n",
      " [10 10  3  6]\n",
      " [ 1  6  8 10]]\n"
     ]
    }
   ],
   "source": [
    "# Create two numpy arrays of shape (3, 4) with random integers from 1 to 10\n",
    "array1 = np.random.randint(1, 11, size=(3,4))\n",
    "array2 = np.random.randint(1, 11, size=(3,4))\n",
    "print(\"Array 1:\")\n",
    "print(array1)\n",
    "print(\"Array 2:\")\n",
    "print(array2)"
   ]
  },
  {
   "cell_type": "code",
   "execution_count": 8,
   "id": "42f13a2a",
   "metadata": {},
   "outputs": [
    {
     "name": "stdout",
     "output_type": "stream",
     "text": [
      "Addition:\n",
      "[[ 7 19 19 11]\n",
      " [18 11  6 10]\n",
      " [ 8 10 14 15]]\n",
      "Subtraction:\n",
      "[[-5  1 -1 -3]\n",
      " [-2 -9  0 -2]\n",
      " [ 6 -2 -2 -5]]\n",
      "Multiplication:\n",
      "[[ 6 90 90 28]\n",
      " [80 10  9 24]\n",
      " [ 7 24 48 50]]\n",
      "Division:\n",
      "[[0.16666667 1.11111111 0.9        0.57142857]\n",
      " [0.8        0.1        1.         0.66666667]\n",
      " [7.         0.66666667 0.75       0.5       ]]\n"
     ]
    }
   ],
   "source": [
    "# Perform element wise operations\n",
    "addition = array1 + array2\n",
    "subtraction = array1 - array2\n",
    "multiplication = array1 * array2\n",
    "division = array1 / array2\n",
    "\n",
    "print(\"Addition:\")\n",
    "print(addition)\n",
    "print(\"Subtraction:\")\n",
    "print(subtraction)\n",
    "print(\"Multiplication:\")\n",
    "print(multiplication)\n",
    "print(\"Division:\")\n",
    "print(division)"
   ]
  },
  {
   "cell_type": "markdown",
   "id": "ac36dc68",
   "metadata": {},
   "source": [
    "# Q2"
   ]
  },
  {
   "cell_type": "code",
   "execution_count": 10,
   "id": "79845eb4",
   "metadata": {},
   "outputs": [
    {
     "name": "stdout",
     "output_type": "stream",
     "text": [
      "Array from 1 to 16:\n",
      "[[ 1  2  3  4]\n",
      " [ 5  6  7  8]\n",
      " [ 9 10 11 12]\n",
      " [13 14 15 16]]\n"
     ]
    }
   ],
   "source": [
    "# cretae a numpy array of shape (4,4) with values from 1 to 16\n",
    "array = np.arange(1,17).reshape((4,4))\n",
    "print(\"Array from 1 to 16:\")\n",
    "print(array)"
   ]
  },
  {
   "cell_type": "code",
   "execution_count": null,
   "id": "c00068fa",
   "metadata": {},
   "outputs": [
    {
     "name": "stdout",
     "output_type": "stream",
     "text": [
      "Row-wise sums:\n",
      "[10 26 42 58]\n",
      "Column-wise sums:\n",
      "[28 32 36 40]\n"
     ]
    }
   ],
   "source": [
    "# compute the row-wise and column-wise sums\n",
    "row_sums = np.sum(array, axis=1) # Row-wise sums\n",
    "column_sums = np.sum(array, axis=0) # Column-wise sums\n",
    "print(\"Row-wise sums:\")\n",
    "print(row_sums)\n",
    "print(\"Column-wise sums:\")\n",
    "print(column_sums)"
   ]
  },
  {
   "cell_type": "code",
   "execution_count": null,
   "id": "1d8e5ed2",
   "metadata": {},
   "outputs": [],
   "source": []
  }
 ],
 "metadata": {
  "kernelspec": {
   "display_name": "Python 3",
   "language": "python",
   "name": "python3"
  },
  "language_info": {
   "codemirror_mode": {
    "name": "ipython",
    "version": 3
   },
   "file_extension": ".py",
   "mimetype": "text/x-python",
   "name": "python",
   "nbconvert_exporter": "python",
   "pygments_lexer": "ipython3",
   "version": "3.13.1"
  }
 },
 "nbformat": 4,
 "nbformat_minor": 5
}
