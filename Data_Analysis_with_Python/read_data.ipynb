{
 "cells": [
  {
   "cell_type": "markdown",
   "id": "c8f7db30",
   "metadata": {},
   "source": [
    "# Reading Data From Different Sources "
   ]
  },
  {
   "cell_type": "code",
   "execution_count": 13,
   "id": "e788235c",
   "metadata": {},
   "outputs": [],
   "source": [
    "import pandas as pd \n",
    "from io import StringIO\n",
    "\n",
    "\n"
   ]
  },
  {
   "cell_type": "code",
   "execution_count": 14,
   "id": "aee3efb0",
   "metadata": {},
   "outputs": [],
   "source": [
    "Data = '{\"employe_name\":\"Vivek\", \"email\":\"vivekchenna2157@gmail.com\", \"job_profile\": [{\"title\":\"Team Lead\", \"title2\":\"Developer\"}]}'\n",
    "df = pd.read_json(StringIO(Data))"
   ]
  },
  {
   "cell_type": "code",
   "execution_count": 15,
   "id": "ab92722b",
   "metadata": {},
   "outputs": [
    {
     "data": {
      "text/html": [
       "<div>\n",
       "<style scoped>\n",
       "    .dataframe tbody tr th:only-of-type {\n",
       "        vertical-align: middle;\n",
       "    }\n",
       "\n",
       "    .dataframe tbody tr th {\n",
       "        vertical-align: top;\n",
       "    }\n",
       "\n",
       "    .dataframe thead th {\n",
       "        text-align: right;\n",
       "    }\n",
       "</style>\n",
       "<table border=\"1\" class=\"dataframe\">\n",
       "  <thead>\n",
       "    <tr style=\"text-align: right;\">\n",
       "      <th></th>\n",
       "      <th>employe_name</th>\n",
       "      <th>email</th>\n",
       "      <th>job_profile</th>\n",
       "    </tr>\n",
       "  </thead>\n",
       "  <tbody>\n",
       "    <tr>\n",
       "      <th>0</th>\n",
       "      <td>Vivek</td>\n",
       "      <td>vivekchenna2157@gmail.com</td>\n",
       "      <td>{'title': 'Team Lead', 'title2': 'Developer'}</td>\n",
       "    </tr>\n",
       "  </tbody>\n",
       "</table>\n",
       "</div>"
      ],
      "text/plain": [
       "  employe_name                      email  \\\n",
       "0        Vivek  vivekchenna2157@gmail.com   \n",
       "\n",
       "                                     job_profile  \n",
       "0  {'title': 'Team Lead', 'title2': 'Developer'}  "
      ]
     },
     "execution_count": 15,
     "metadata": {},
     "output_type": "execute_result"
    }
   ],
   "source": [
    "df"
   ]
  },
  {
   "cell_type": "code",
   "execution_count": 16,
   "id": "3b0c26f5",
   "metadata": {},
   "outputs": [
    {
     "data": {
      "text/plain": [
       "'{\"employe_name\":{\"0\":\"Vivek\"},\"email\":{\"0\":\"vivekchenna2157@gmail.com\"},\"job_profile\":{\"0\":{\"title\":\"Team Lead\",\"title2\":\"Developer\"}}}'"
      ]
     },
     "execution_count": 16,
     "metadata": {},
     "output_type": "execute_result"
    }
   ],
   "source": [
    "df.to_json()"
   ]
  },
  {
   "cell_type": "code",
   "execution_count": 17,
   "id": "b7a7a35c",
   "metadata": {},
   "outputs": [
    {
     "data": {
      "text/plain": [
       "'{\"0\":{\"employe_name\":\"Vivek\",\"email\":\"vivekchenna2157@gmail.com\",\"job_profile\":{\"title\":\"Team Lead\",\"title2\":\"Developer\"}}}'"
      ]
     },
     "execution_count": 17,
     "metadata": {},
     "output_type": "execute_result"
    }
   ],
   "source": [
    "df.to_json(orient='index')"
   ]
  },
  {
   "cell_type": "code",
   "execution_count": 18,
   "id": "5206949d",
   "metadata": {},
   "outputs": [
    {
     "data": {
      "text/plain": [
       "'[{\"employe_name\":\"Vivek\",\"email\":\"vivekchenna2157@gmail.com\",\"job_profile\":{\"title\":\"Team Lead\",\"title2\":\"Developer\"}}]'"
      ]
     },
     "execution_count": 18,
     "metadata": {},
     "output_type": "execute_result"
    }
   ],
   "source": [
    "df.to_json(orient='records')"
   ]
  },
  {
   "cell_type": "code",
   "execution_count": 21,
   "id": "e979f5a1",
   "metadata": {},
   "outputs": [
    {
     "data": {
      "text/html": [
       "<div>\n",
       "<style scoped>\n",
       "    .dataframe tbody tr th:only-of-type {\n",
       "        vertical-align: middle;\n",
       "    }\n",
       "\n",
       "    .dataframe tbody tr th {\n",
       "        vertical-align: top;\n",
       "    }\n",
       "\n",
       "    .dataframe thead th {\n",
       "        text-align: right;\n",
       "    }\n",
       "</style>\n",
       "<table border=\"1\" class=\"dataframe\">\n",
       "  <thead>\n",
       "    <tr style=\"text-align: right;\">\n",
       "      <th></th>\n",
       "      <th>0</th>\n",
       "      <th>1</th>\n",
       "      <th>2</th>\n",
       "      <th>3</th>\n",
       "      <th>4</th>\n",
       "      <th>5</th>\n",
       "      <th>6</th>\n",
       "      <th>7</th>\n",
       "      <th>8</th>\n",
       "      <th>9</th>\n",
       "      <th>...</th>\n",
       "      <th>15</th>\n",
       "      <th>16</th>\n",
       "      <th>17</th>\n",
       "      <th>18</th>\n",
       "      <th>19</th>\n",
       "      <th>20</th>\n",
       "      <th>21</th>\n",
       "      <th>22</th>\n",
       "      <th>23</th>\n",
       "      <th>24</th>\n",
       "    </tr>\n",
       "  </thead>\n",
       "  <tbody>\n",
       "    <tr>\n",
       "      <th>0</th>\n",
       "      <td>Client ID</td>\n",
       "      <td>Name</td>\n",
       "      <td>Age</td>\n",
       "      <td>Location ID</td>\n",
       "      <td>Joined Bank</td>\n",
       "      <td>Banking Contact</td>\n",
       "      <td>Nationality</td>\n",
       "      <td>Occupation</td>\n",
       "      <td>Fee Structure</td>\n",
       "      <td>Loyalty Classification</td>\n",
       "      <td>...</td>\n",
       "      <td>Bank Deposits</td>\n",
       "      <td>Checking Accounts</td>\n",
       "      <td>Saving Accounts</td>\n",
       "      <td>Foreign Currency Account</td>\n",
       "      <td>Business Lending</td>\n",
       "      <td>Properties Owned</td>\n",
       "      <td>Risk Weighting</td>\n",
       "      <td>BRId</td>\n",
       "      <td>GenderId</td>\n",
       "      <td>IAId</td>\n",
       "    </tr>\n",
       "    <tr>\n",
       "      <th>1</th>\n",
       "      <td>IND81288</td>\n",
       "      <td>Raymond Mills</td>\n",
       "      <td>24</td>\n",
       "      <td>34324</td>\n",
       "      <td>06/05/19</td>\n",
       "      <td>Anthony Torres</td>\n",
       "      <td>American</td>\n",
       "      <td>Safety Technician IV</td>\n",
       "      <td>High</td>\n",
       "      <td>Jade</td>\n",
       "      <td>...</td>\n",
       "      <td>1485828.64</td>\n",
       "      <td>603617.88</td>\n",
       "      <td>607332.46</td>\n",
       "      <td>12249.96</td>\n",
       "      <td>1134475.3</td>\n",
       "      <td>1</td>\n",
       "      <td>2</td>\n",
       "      <td>1</td>\n",
       "      <td>1</td>\n",
       "      <td>1</td>\n",
       "    </tr>\n",
       "    <tr>\n",
       "      <th>2</th>\n",
       "      <td>IND65833</td>\n",
       "      <td>Julia Spencer</td>\n",
       "      <td>23</td>\n",
       "      <td>42205</td>\n",
       "      <td>10/12/01</td>\n",
       "      <td>Jonathan Hawkins</td>\n",
       "      <td>African</td>\n",
       "      <td>Software Consultant</td>\n",
       "      <td>High</td>\n",
       "      <td>Jade</td>\n",
       "      <td>...</td>\n",
       "      <td>641482.79</td>\n",
       "      <td>229521.37</td>\n",
       "      <td>344635.16</td>\n",
       "      <td>61162.31</td>\n",
       "      <td>2000526.1</td>\n",
       "      <td>1</td>\n",
       "      <td>3</td>\n",
       "      <td>2</td>\n",
       "      <td>1</td>\n",
       "      <td>2</td>\n",
       "    </tr>\n",
       "    <tr>\n",
       "      <th>3</th>\n",
       "      <td>IND47499</td>\n",
       "      <td>Stephen Murray</td>\n",
       "      <td>27</td>\n",
       "      <td>7314</td>\n",
       "      <td>25/01/10</td>\n",
       "      <td>Anthony Berry</td>\n",
       "      <td>European</td>\n",
       "      <td>Help Desk Operator</td>\n",
       "      <td>High</td>\n",
       "      <td>Gold</td>\n",
       "      <td>...</td>\n",
       "      <td>1033401.59</td>\n",
       "      <td>652674.69</td>\n",
       "      <td>203054.35</td>\n",
       "      <td>79071.78</td>\n",
       "      <td>548137.58</td>\n",
       "      <td>1</td>\n",
       "      <td>3</td>\n",
       "      <td>3</td>\n",
       "      <td>2</td>\n",
       "      <td>3</td>\n",
       "    </tr>\n",
       "    <tr>\n",
       "      <th>4</th>\n",
       "      <td>IND72498</td>\n",
       "      <td>Virginia Garza</td>\n",
       "      <td>40</td>\n",
       "      <td>34594</td>\n",
       "      <td>28/03/19</td>\n",
       "      <td>Steve Diaz</td>\n",
       "      <td>American</td>\n",
       "      <td>Geologist II</td>\n",
       "      <td>Mid</td>\n",
       "      <td>Silver</td>\n",
       "      <td>...</td>\n",
       "      <td>1048157.49</td>\n",
       "      <td>1048157.49</td>\n",
       "      <td>234685.02</td>\n",
       "      <td>57513.65</td>\n",
       "      <td>1148402.29</td>\n",
       "      <td>0</td>\n",
       "      <td>4</td>\n",
       "      <td>4</td>\n",
       "      <td>1</td>\n",
       "      <td>4</td>\n",
       "    </tr>\n",
       "  </tbody>\n",
       "</table>\n",
       "<p>5 rows × 25 columns</p>\n",
       "</div>"
      ],
      "text/plain": [
       "          0               1    2            3            4                 5   \\\n",
       "0  Client ID            Name  Age  Location ID  Joined Bank   Banking Contact   \n",
       "1   IND81288   Raymond Mills   24        34324     06/05/19    Anthony Torres   \n",
       "2   IND65833   Julia Spencer   23        42205     10/12/01  Jonathan Hawkins   \n",
       "3   IND47499  Stephen Murray   27         7314     25/01/10     Anthony Berry   \n",
       "4   IND72498  Virginia Garza   40        34594     28/03/19        Steve Diaz   \n",
       "\n",
       "            6                     7              8                       9   \\\n",
       "0  Nationality            Occupation  Fee Structure  Loyalty Classification   \n",
       "1     American  Safety Technician IV           High                    Jade   \n",
       "2      African   Software Consultant           High                    Jade   \n",
       "3     European    Help Desk Operator           High                    Gold   \n",
       "4     American          Geologist II            Mid                  Silver   \n",
       "\n",
       "   ...             15                 16               17  \\\n",
       "0  ...  Bank Deposits  Checking Accounts  Saving Accounts   \n",
       "1  ...     1485828.64          603617.88        607332.46   \n",
       "2  ...      641482.79          229521.37        344635.16   \n",
       "3  ...     1033401.59          652674.69        203054.35   \n",
       "4  ...     1048157.49         1048157.49        234685.02   \n",
       "\n",
       "                         18                19                20  \\\n",
       "0  Foreign Currency Account  Business Lending  Properties Owned   \n",
       "1                  12249.96         1134475.3                 1   \n",
       "2                  61162.31         2000526.1                 1   \n",
       "3                  79071.78         548137.58                 1   \n",
       "4                  57513.65        1148402.29                 0   \n",
       "\n",
       "               21    22        23    24  \n",
       "0  Risk Weighting  BRId  GenderId  IAId  \n",
       "1               2     1         1     1  \n",
       "2               3     2         1     2  \n",
       "3               3     3         2     3  \n",
       "4               4     4         1     4  \n",
       "\n",
       "[5 rows x 25 columns]"
      ]
     },
     "execution_count": 21,
     "metadata": {},
     "output_type": "execute_result"
    }
   ],
   "source": [
    "df = pd.read_csv('/Users/vivekchenna/Desktop/Banking_Project/customer_data.csv', header=None)\n",
    "df.head(5)"
   ]
  },
  {
   "cell_type": "code",
   "execution_count": null,
   "id": "4e65e1ee",
   "metadata": {},
   "outputs": [],
   "source": []
  }
 ],
 "metadata": {
  "kernelspec": {
   "display_name": "base",
   "language": "python",
   "name": "python3"
  },
  "language_info": {
   "codemirror_mode": {
    "name": "ipython",
    "version": 3
   },
   "file_extension": ".py",
   "mimetype": "text/x-python",
   "name": "python",
   "nbconvert_exporter": "python",
   "pygments_lexer": "ipython3",
   "version": "3.11.4"
  }
 },
 "nbformat": 4,
 "nbformat_minor": 5
}
