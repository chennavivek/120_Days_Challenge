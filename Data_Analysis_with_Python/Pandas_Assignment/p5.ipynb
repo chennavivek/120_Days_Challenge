{
 "cells": [
  {
   "cell_type": "markdown",
   "id": "ce8fd33d",
   "metadata": {},
   "source": [
    "# Assignment5: Merging DataFrame"
   ]
  },
  {
   "cell_type": "markdown",
   "id": "dd2df183",
   "metadata": {},
   "source": [
    "# Q1"
   ]
  },
  {
   "cell_type": "code",
   "execution_count": 2,
   "id": "3e976a10",
   "metadata": {},
   "outputs": [],
   "source": [
    "import numpy as np\n",
    "import pandas as pd"
   ]
  },
  {
   "cell_type": "code",
   "execution_count": 3,
   "id": "f8c67cf6",
   "metadata": {},
   "outputs": [
    {
     "name": "stdout",
     "output_type": "stream",
     "text": [
      "DataFrame1:\n",
      "  Key  Value1\n",
      "0   A      23\n",
      "1   B      33\n",
      "2   C      38\n",
      "3   D      57\n",
      "DataFrame2:\n",
      "  Key  Value2\n",
      "0   A      42\n",
      "1   B      90\n",
      "2   C      37\n",
      "3   E      45\n"
     ]
    }
   ],
   "source": [
    "# create two pandas dataframe with a common column\n",
    "\n",
    "df1 = pd.DataFrame({'Key':['A','B','C','D'], 'Value1': np.random.randint(1,100, size=4)})\n",
    "df2 = pd.DataFrame({'Key':['A','B','C','E'], 'Value2': np.random.randint(1,100, size=4)})\n",
    "print(\"DataFrame1:\")\n",
    "print(df1)\n",
    "print(\"DataFrame2:\")\n",
    "print(df2)"
   ]
  },
  {
   "cell_type": "code",
   "execution_count": 4,
   "id": "c9412345",
   "metadata": {},
   "outputs": [
    {
     "name": "stdout",
     "output_type": "stream",
     "text": [
      "Merged DataFrame:\n",
      "  Key  Value1  Value2\n",
      "0   A      23      42\n",
      "1   B      33      90\n",
      "2   C      38      37\n"
     ]
    }
   ],
   "source": [
    "# Merge the DataFrame using the common column\n",
    "merged = pd.merge(df1, df2, on='Key')\n",
    "print(\"Merged DataFrame:\")\n",
    "print(merged)"
   ]
  },
  {
   "cell_type": "markdown",
   "id": "f3340676",
   "metadata": {},
   "source": [
    "# Q2"
   ]
  },
  {
   "cell_type": "code",
   "execution_count": 7,
   "id": "4595be78",
   "metadata": {},
   "outputs": [
    {
     "name": "stdout",
     "output_type": "stream",
     "text": [
      "DataFrame1:\n",
      "    A   B\n",
      "0  27  29\n",
      "1  94  34\n",
      "2  55  56\n",
      "DataFrame2:\n",
      "    C   D\n",
      "0  75  74\n",
      "1  82  77\n",
      "2  29  72\n"
     ]
    }
   ],
   "source": [
    "# create two pandas dataframe with different columns \n",
    "df1 = pd.DataFrame({'A': np.random.randint(1,100,size=3), 'B': np.random.randint(1,100, size=3)})\n",
    "df2 = pd.DataFrame({'C': np.random.randint(1,100,size=3), 'D': np.random.randint(1,100, size=3)})\n",
    "print(\"DataFrame1:\")\n",
    "print(df1)\n",
    "print(\"DataFrame2:\")\n",
    "print(df2)"
   ]
  },
  {
   "cell_type": "code",
   "execution_count": 8,
   "id": "970c833f",
   "metadata": {},
   "outputs": [
    {
     "name": "stdout",
     "output_type": "stream",
     "text": [
      "Concatenated DataFrame (rows):\n",
      "      A     B     C     D\n",
      "0  27.0  29.0   NaN   NaN\n",
      "1  94.0  34.0   NaN   NaN\n",
      "2  55.0  56.0   NaN   NaN\n",
      "0   NaN   NaN  75.0  74.0\n",
      "1   NaN   NaN  82.0  77.0\n",
      "2   NaN   NaN  29.0  72.0\n"
     ]
    }
   ],
   "source": [
    "# Concatenate the dataframes along the rows and along the columns\n",
    "# Concatenate the dataframe along the rows \n",
    "concat_rows = pd.concat([df1, df2], axis=0)\n",
    "print(\"Concatenated DataFrame (rows):\")\n",
    "print(concat_rows)\n",
    "\n"
   ]
  },
  {
   "cell_type": "code",
   "execution_count": 9,
   "id": "7f762b64",
   "metadata": {},
   "outputs": [
    {
     "name": "stdout",
     "output_type": "stream",
     "text": [
      "Concatenated DataFrame (Columns):\n",
      "    A   B   C   D\n",
      "0  27  29  75  74\n",
      "1  94  34  82  77\n",
      "2  55  56  29  72\n"
     ]
    }
   ],
   "source": [
    "# Concatenate along the columns \n",
    "concat_col = pd.concat([df1, df2], axis=1)\n",
    "print(\"Concatenated DataFrame (Columns):\")\n",
    "print(concat_col)"
   ]
  },
  {
   "cell_type": "code",
   "execution_count": null,
   "id": "1d7e00a8",
   "metadata": {},
   "outputs": [],
   "source": []
  }
 ],
 "metadata": {
  "kernelspec": {
   "display_name": "Python 3",
   "language": "python",
   "name": "python3"
  },
  "language_info": {
   "codemirror_mode": {
    "name": "ipython",
    "version": 3
   },
   "file_extension": ".py",
   "mimetype": "text/x-python",
   "name": "python",
   "nbconvert_exporter": "python",
   "pygments_lexer": "ipython3",
   "version": "3.13.1"
  }
 },
 "nbformat": 4,
 "nbformat_minor": 5
}
