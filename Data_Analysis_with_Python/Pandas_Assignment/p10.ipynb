{
 "cells": [
  {
   "cell_type": "markdown",
   "id": "3448e055",
   "metadata": {},
   "source": [
    "# Assignment10: Working with Text Data"
   ]
  },
  {
   "cell_type": "markdown",
   "id": "16dd3813",
   "metadata": {},
   "source": [
    "# Q1"
   ]
  },
  {
   "cell_type": "code",
   "execution_count": 13,
   "id": "7086809d",
   "metadata": {},
   "outputs": [
    {
     "name": "stdout",
     "output_type": "stream",
     "text": [
      "Original DateFrame:\n",
      "0    abroad\n",
      "1       bat\n",
      "2       cat\n",
      "3       dog\n",
      "4       egg\n",
      "dtype: object\n"
     ]
    }
   ],
   "source": [
    "# create a panda series with 5 random text strings\n",
    "text_data = pd.Series(['abroad', 'bat', 'cat', 'dog', 'egg'])\n",
    "print(\"Original DateFrame:\")\n",
    "print(text_data)"
   ]
  },
  {
   "cell_type": "code",
   "execution_count": 14,
   "id": "6c9a3877",
   "metadata": {},
   "outputs": [
    {
     "name": "stdout",
     "output_type": "stream",
     "text": [
      "Uppercase:\n",
      "0    ABROAD\n",
      "1       BAT\n",
      "2       CAT\n",
      "3       DOG\n",
      "4       EGG\n",
      "dtype: object\n"
     ]
    }
   ],
   "source": [
    "# convert all the string to uppercase \n",
    "uppercase_data = text_data.str.upper()\n",
    "print(\"Uppercase:\")\n",
    "print(uppercase_data)"
   ]
  },
  {
   "cell_type": "markdown",
   "id": "fde12877",
   "metadata": {},
   "source": [
    "# Q2"
   ]
  },
  {
   "cell_type": "code",
   "execution_count": 15,
   "id": "3600b3a7",
   "metadata": {},
   "outputs": [
    {
     "name": "stdout",
     "output_type": "stream",
     "text": [
      "Original DataFrame:\n",
      "0    vk\n",
      "1    ch\n",
      "2    dl\n",
      "3    rr\n",
      "4    sa\n",
      "dtype: object\n"
     ]
    }
   ],
   "source": [
    "# create a pandas Series with 5 raandom text strings.\n",
    "text_data = pd.Series(['vk', 'ch', 'dl', 'rr', 'sa'])\n",
    "print(\"Original DataFrame:\")\n",
    "print(text_data)\n"
   ]
  },
  {
   "cell_type": "code",
   "execution_count": 17,
   "id": "ae9805f7",
   "metadata": {},
   "outputs": [
    {
     "name": "stdout",
     "output_type": "stream",
     "text": [
      "First three Charcters:\n",
      "0    vk\n",
      "1    ch\n",
      "2    dl\n",
      "3    rr\n",
      "4    sa\n",
      "dtype: object\n"
     ]
    }
   ],
   "source": [
    "# Extract the first three characters of each string\n",
    "first_three_chars = text_data.str[:3]\n",
    "print(\"First three Charcters:\")\n",
    "print(first_three_chars)"
   ]
  },
  {
   "cell_type": "code",
   "execution_count": null,
   "id": "fc7e8015",
   "metadata": {},
   "outputs": [],
   "source": []
  }
 ],
 "metadata": {
  "kernelspec": {
   "display_name": "Python 3",
   "language": "python",
   "name": "python3"
  },
  "language_info": {
   "codemirror_mode": {
    "name": "ipython",
    "version": 3
   },
   "file_extension": ".py",
   "mimetype": "text/x-python",
   "name": "python",
   "nbconvert_exporter": "python",
   "pygments_lexer": "ipython3",
   "version": "3.13.1"
  }
 },
 "nbformat": 4,
 "nbformat_minor": 5
}
