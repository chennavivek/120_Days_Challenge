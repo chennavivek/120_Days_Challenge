{
 "cells": [
  {
   "cell_type": "markdown",
   "id": "8ebc20eb",
   "metadata": {},
   "source": [
    "# Assignment7: MultiIndex DataFrame"
   ]
  },
  {
   "cell_type": "markdown",
   "id": "2c9d8fa8",
   "metadata": {},
   "source": [
    "# Q1"
   ]
  },
  {
   "cell_type": "code",
   "execution_count": 2,
   "id": "4c2a93f4",
   "metadata": {},
   "outputs": [],
   "source": [
    "import numpy as np\n",
    "import pandas as pd"
   ]
  },
  {
   "cell_type": "code",
   "execution_count": 4,
   "id": "0afa3b45",
   "metadata": {},
   "outputs": [
    {
     "name": "stdout",
     "output_type": "stream",
     "text": [
      "MultiIndex DataFrame:\n",
      "                      Value1  Value2  Value3\n",
      "Category SubCategory                        \n",
      "A        one              79      63      35\n",
      "         two               6      43      79\n",
      "B        one              74      25       6\n",
      "         two              56      72      51\n"
     ]
    }
   ],
   "source": [
    "# create a pandas dataframe with a multiindex (hierarchical index)\n",
    "arrays = [['A', 'A', 'B', 'B'], ['one', 'two', 'one', 'two']]\n",
    "index = pd.MultiIndex.from_arrays(arrays, names=('Category', 'SubCategory'))\n",
    "df = pd.DataFrame(np.random.randint(1,100, size=(4,3)), index=index, columns=['Value1', 'Value2', 'Value3'])\n",
    "print(\"MultiIndex DataFrame:\")\n",
    "print(df)"
   ]
  },
  {
   "cell_type": "code",
   "execution_count": 7,
   "id": "528e84b6",
   "metadata": {},
   "outputs": [
    {
     "name": "stdout",
     "output_type": "stream",
     "text": [
      "Indexing at Category 'A': \n",
      "             Value1  Value2  Value3\n",
      "SubCategory                        \n",
      "one              79      63      35\n",
      "two               6      43      79\n",
      "Slicing at Category 'B' and SubCategory 'Two': \n",
      "Value1    56\n",
      "Value2    72\n",
      "Value3    51\n",
      "Name: (B, two), dtype: int64\n"
     ]
    }
   ],
   "source": [
    "# Basic indexing and slicing operations\n",
    "print(\"Indexing at Category 'A': \")\n",
    "print(df.loc['A'])\n",
    "print(\"Slicing at Category 'B' and SubCategory 'Two': \")\n",
    "print(df.loc['B', 'two'])"
   ]
  },
  {
   "cell_type": "markdown",
   "id": "e8a1c99b",
   "metadata": {},
   "source": [
    "# Q2"
   ]
  },
  {
   "cell_type": "code",
   "execution_count": 11,
   "id": "8dd37fb9",
   "metadata": {},
   "outputs": [
    {
     "name": "stdout",
     "output_type": "stream",
     "text": [
      " MultiIndex DataFrame:\n",
      "                      Value1  Values2  Value3\n",
      "Category SubCategory                         \n",
      "A        one              67       90      47\n",
      "         two              14       69       8\n",
      "B        one              98       42      61\n",
      "         two              26       20      80\n",
      "C        one              14       32      37\n",
      "         two               1       16      51\n"
     ]
    }
   ],
   "source": [
    "# create a pandas dataframe with MultiIndex consisting of 'Category' and 'SubCategory' fill the dataframe with random data\n",
    "arrays = [['A', 'A', 'B', 'B', 'C', 'C'], ['one', 'two', 'one', 'two','one','two']]\n",
    "index = pd.MultiIndex.from_arrays(arrays, names= ('Category', 'SubCategory'))\n",
    "df = pd.DataFrame(np.random.randint(1,100, size=(6,3)), index=index, columns=['Value1', 'Values2', 'Value3'])\n",
    "print(\" MultiIndex DataFrame:\")\n",
    "print(df)\n",
    "\n",
    "\n"
   ]
  },
  {
   "cell_type": "code",
   "execution_count": 12,
   "id": "8db86d7a",
   "metadata": {},
   "outputs": [
    {
     "name": "stdout",
     "output_type": "stream",
     "text": [
      "Sum of Values:\n",
      "                      Value1  Values2  Value3\n",
      "Category SubCategory                         \n",
      "A        one              67       90      47\n",
      "         two              14       69       8\n",
      "B        one              98       42      61\n",
      "         two              26       20      80\n",
      "C        one              14       32      37\n",
      "         two               1       16      51\n"
     ]
    }
   ],
   "source": [
    "# compute the sum of each 'Category' and 'SubCategory'\n",
    "sum_values = df.groupby(['Category', 'SubCategory']).sum()\n",
    "print(f\"Sum of Values:\\n{sum_values}\")\n"
   ]
  },
  {
   "cell_type": "code",
   "execution_count": null,
   "id": "816c0546",
   "metadata": {},
   "outputs": [],
   "source": []
  }
 ],
 "metadata": {
  "kernelspec": {
   "display_name": "Python 3",
   "language": "python",
   "name": "python3"
  },
  "language_info": {
   "codemirror_mode": {
    "name": "ipython",
    "version": 3
   },
   "file_extension": ".py",
   "mimetype": "text/x-python",
   "name": "python",
   "nbconvert_exporter": "python",
   "pygments_lexer": "ipython3",
   "version": "3.13.1"
  }
 },
 "nbformat": 4,
 "nbformat_minor": 5
}
