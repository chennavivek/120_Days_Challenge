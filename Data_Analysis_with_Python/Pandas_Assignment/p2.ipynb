{
 "cells": [
  {
   "cell_type": "markdown",
   "id": "190d7754",
   "metadata": {},
   "source": [
    "# Assignment2: DataFrame Operations"
   ]
  },
  {
   "cell_type": "markdown",
   "id": "783b8a48",
   "metadata": {},
   "source": [
    "# Q1"
   ]
  },
  {
   "cell_type": "code",
   "execution_count": 1,
   "id": "1a0f40fc",
   "metadata": {},
   "outputs": [],
   "source": [
    "import numpy as np \n",
    "import pandas as pd"
   ]
  },
  {
   "cell_type": "code",
   "execution_count": 3,
   "id": "51e963fd",
   "metadata": {},
   "outputs": [
    {
     "name": "stdout",
     "output_type": "stream",
     "text": [
      "Original DataFrame:\n",
      "    A   B   C\n",
      "0  92  80  64\n",
      "1  38  83  23\n",
      "2  93  58  21\n",
      "3  84   4   2\n",
      "4  17  75  49\n"
     ]
    }
   ],
   "source": [
    "# create a pandas dataframe with 3 columns and 5 rows filled with random integers\n",
    "df = pd.DataFrame(np.random.randint(1,100 , size=(5,3)), columns=['A','B','C'])\n",
    "print(\"Original DataFrame:\")\n",
    "print(df)\n",
    "\n"
   ]
  },
  {
   "cell_type": "code",
   "execution_count": 5,
   "id": "2d124dfd",
   "metadata": {},
   "outputs": [
    {
     "data": {
      "text/html": [
       "<div>\n",
       "<style scoped>\n",
       "    .dataframe tbody tr th:only-of-type {\n",
       "        vertical-align: middle;\n",
       "    }\n",
       "\n",
       "    .dataframe tbody tr th {\n",
       "        vertical-align: top;\n",
       "    }\n",
       "\n",
       "    .dataframe thead th {\n",
       "        text-align: right;\n",
       "    }\n",
       "</style>\n",
       "<table border=\"1\" class=\"dataframe\">\n",
       "  <thead>\n",
       "    <tr style=\"text-align: right;\">\n",
       "      <th></th>\n",
       "      <th>A</th>\n",
       "      <th>B</th>\n",
       "      <th>C</th>\n",
       "      <th>D</th>\n",
       "    </tr>\n",
       "  </thead>\n",
       "  <tbody>\n",
       "    <tr>\n",
       "      <th>0</th>\n",
       "      <td>92</td>\n",
       "      <td>80</td>\n",
       "      <td>64</td>\n",
       "      <td>7360</td>\n",
       "    </tr>\n",
       "    <tr>\n",
       "      <th>1</th>\n",
       "      <td>38</td>\n",
       "      <td>83</td>\n",
       "      <td>23</td>\n",
       "      <td>3154</td>\n",
       "    </tr>\n",
       "    <tr>\n",
       "      <th>2</th>\n",
       "      <td>93</td>\n",
       "      <td>58</td>\n",
       "      <td>21</td>\n",
       "      <td>5394</td>\n",
       "    </tr>\n",
       "    <tr>\n",
       "      <th>3</th>\n",
       "      <td>84</td>\n",
       "      <td>4</td>\n",
       "      <td>2</td>\n",
       "      <td>336</td>\n",
       "    </tr>\n",
       "    <tr>\n",
       "      <th>4</th>\n",
       "      <td>17</td>\n",
       "      <td>75</td>\n",
       "      <td>49</td>\n",
       "      <td>1275</td>\n",
       "    </tr>\n",
       "  </tbody>\n",
       "</table>\n",
       "</div>"
      ],
      "text/plain": [
       "    A   B   C     D\n",
       "0  92  80  64  7360\n",
       "1  38  83  23  3154\n",
       "2  93  58  21  5394\n",
       "3  84   4   2   336\n",
       "4  17  75  49  1275"
      ]
     },
     "execution_count": 5,
     "metadata": {},
     "output_type": "execute_result"
    }
   ],
   "source": [
    "# Add a new column that is the product of the first two columns\n",
    "df['D']= df['A'] * df['B']\n",
    "df"
   ]
  },
  {
   "cell_type": "markdown",
   "id": "0af78373",
   "metadata": {},
   "source": [
    "# Q2"
   ]
  },
  {
   "cell_type": "code",
   "execution_count": 7,
   "id": "9b7a001c",
   "metadata": {},
   "outputs": [
    {
     "name": "stdout",
     "output_type": "stream",
     "text": [
      "Original DataFrame: \n",
      "    A   B   C\n",
      "0  11  84  32\n",
      "1  70  43  25\n",
      "2  81  33  94\n",
      "3  37  71  53\n"
     ]
    }
   ],
   "source": [
    "# create a pandas dataframe with 3 columns and 4 rows filled with random integers\n",
    "df = pd.DataFrame(np.random.randint(1,100, size=(4,3)), columns=['A','B','C'])\n",
    "print(\"Original DataFrame: \")\n",
    "print(df)"
   ]
  },
  {
   "cell_type": "code",
   "execution_count": 9,
   "id": "2682014a",
   "metadata": {},
   "outputs": [
    {
     "name": "stdout",
     "output_type": "stream",
     "text": [
      "Row-wise sum:0    127\n",
      "1    138\n",
      "2    208\n",
      "3    161\n",
      "dtype: int64\n",
      "Column-wise sum:A    199\n",
      "B    231\n",
      "C    204\n",
      "dtype: int64\n"
     ]
    }
   ],
   "source": [
    "# compute the row-wise and column-wise\n",
    "row_sum = df.sum(axis=1)\n",
    "col_sum = df.sum(axis=0)\n",
    "print(f\"Row-wise sum:{row_sum}\")\n",
    "print(f\"Column-wise sum:{col_sum}\")"
   ]
  }
 ],
 "metadata": {
  "kernelspec": {
   "display_name": "Python 3",
   "language": "python",
   "name": "python3"
  },
  "language_info": {
   "codemirror_mode": {
    "name": "ipython",
    "version": 3
   },
   "file_extension": ".py",
   "mimetype": "text/x-python",
   "name": "python",
   "nbconvert_exporter": "python",
   "pygments_lexer": "ipython3",
   "version": "3.13.1"
  }
 },
 "nbformat": 4,
 "nbformat_minor": 5
}
