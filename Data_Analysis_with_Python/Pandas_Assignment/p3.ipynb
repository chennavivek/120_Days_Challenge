{
 "cells": [
  {
   "cell_type": "markdown",
   "id": "1109382d",
   "metadata": {},
   "source": [
    "# Assignment3: Data Cleaning "
   ]
  },
  {
   "cell_type": "markdown",
   "id": "29fe5842",
   "metadata": {},
   "source": [
    "# Q1"
   ]
  },
  {
   "cell_type": "code",
   "execution_count": 2,
   "id": "04f6a8f2",
   "metadata": {},
   "outputs": [],
   "source": [
    "import numpy as np \n",
    "import pandas as pd"
   ]
  },
  {
   "cell_type": "code",
   "execution_count": 3,
   "id": "cd12817b",
   "metadata": {},
   "outputs": [
    {
     "name": "stdout",
     "output_type": "stream",
     "text": [
      "Original DataFrame:\n",
      "    A   B   C\n",
      "0  66  88   3\n",
      "1  42  99  47\n",
      "2  23  76  36\n",
      "3  60  73  34\n",
      "4  34  31  87\n"
     ]
    }
   ],
   "source": [
    "# create a pandas dataframe with 3columns and 5 rows filled with random integers\n",
    "df = pd.DataFrame(np.random.randint(1,100, size=(5,3)), columns=['A', 'B', 'C'])\n",
    "print(f\"Original DataFrame:\\n{df}\")"
   ]
  },
  {
   "cell_type": "code",
   "execution_count": 4,
   "id": "464a02e4",
   "metadata": {},
   "outputs": [
    {
     "name": "stdout",
     "output_type": "stream",
     "text": [
      "DataFrame with NaN values:\n",
      "      A     B     C\n",
      "0  66.0   NaN   3.0\n",
      "1  42.0  99.0  47.0\n",
      "2  23.0  76.0   NaN\n",
      "3  60.0  73.0  34.0\n",
      "4   NaN  31.0  87.0\n"
     ]
    }
   ],
   "source": [
    "# Introduce some NaN values\n",
    "df.iloc[0, 1] = np.nan\n",
    "df.iloc[2, 2] = np.nan\n",
    "df.iloc[4, 0] = np.nan\n",
    "print(\"DataFrame with NaN values:\")\n",
    "print(df)"
   ]
  },
  {
   "cell_type": "code",
   "execution_count": 5,
   "id": "099d371f",
   "metadata": {},
   "outputs": [
    {
     "name": "stdout",
     "output_type": "stream",
     "text": [
      "DataFrame with NaN values filled:\n",
      "       A      B      C\n",
      "0  66.00  69.75   3.00\n",
      "1  42.00  99.00  47.00\n",
      "2  23.00  76.00  42.75\n",
      "3  60.00  73.00  34.00\n",
      "4  47.75  31.00  87.00\n"
     ]
    }
   ],
   "source": [
    "# Fill the nan values with the mean of the respective columns\n",
    "df.fillna(df.mean(), inplace=True) \n",
    "print(\"DataFrame with NaN values filled:\")\n",
    "print(df)"
   ]
  },
  {
   "cell_type": "markdown",
   "id": "e35bd219",
   "metadata": {},
   "source": [
    "# Q2"
   ]
  },
  {
   "cell_type": "code",
   "execution_count": 8,
   "id": "55894e64",
   "metadata": {},
   "outputs": [
    {
     "name": "stdout",
     "output_type": "stream",
     "text": [
      "Original DataFrame:\n",
      "    A   B   C   D\n",
      "0  67   8  53  25\n",
      "1  19  22  20  22\n",
      "2  21  64  66  87\n",
      "3  12  87   2  59\n",
      "4  65  12  32   2\n",
      "5  10  49   4  85\n"
     ]
    }
   ],
   "source": [
    "# create a dataframe with 4columns and 6 rows filled with random integers\n",
    "df = pd.DataFrame(np.random.randint(1,100, size=(6,4)), columns=['A','B','C','D'])\n",
    "print(f\"Original DataFrame:\\n{df}\")\n",
    "\n",
    "\n"
   ]
  },
  {
   "cell_type": "code",
   "execution_count": 9,
   "id": "a05a08a5",
   "metadata": {},
   "outputs": [
    {
     "name": "stdout",
     "output_type": "stream",
     "text": [
      "DataFrame with NaN values:\n",
      "    A     B     C     D\n",
      "0  67   8.0  53.0  25.0\n",
      "1  19  22.0   NaN  22.0\n",
      "2  21   NaN  66.0  87.0\n",
      "3  12  87.0   2.0  59.0\n",
      "4  65  12.0  32.0   2.0\n",
      "5  10  49.0   4.0   NaN\n"
     ]
    }
   ],
   "source": [
    "# Introduce some nan values \n",
    "df.iloc[1,2] = np.nan\n",
    "df.iloc[2,1] = np.nan\n",
    "df.iloc[5,3] = np.nan\n",
    "print(\"DataFrame with NaN values:\")\n",
    "print(df)"
   ]
  },
  {
   "cell_type": "code",
   "execution_count": 10,
   "id": "58ce1511",
   "metadata": {},
   "outputs": [
    {
     "name": "stdout",
     "output_type": "stream",
     "text": [
      "DataFrame with NaN Values drooped:\n",
      "    A     B     C     D\n",
      "0  67   8.0  53.0  25.0\n",
      "3  12  87.0   2.0  59.0\n",
      "4  65  12.0  32.0   2.0\n"
     ]
    }
   ],
   "source": [
    "# drop the rows with any nan values\n",
    "df.dropna(inplace=True)\n",
    "print(\"DataFrame with NaN Values drooped:\")\n",
    "print(df)"
   ]
  },
  {
   "cell_type": "code",
   "execution_count": null,
   "id": "85c27388",
   "metadata": {},
   "outputs": [],
   "source": []
  }
 ],
 "metadata": {
  "kernelspec": {
   "display_name": "Python 3",
   "language": "python",
   "name": "python3"
  },
  "language_info": {
   "codemirror_mode": {
    "name": "ipython",
    "version": 3
   },
   "file_extension": ".py",
   "mimetype": "text/x-python",
   "name": "python",
   "nbconvert_exporter": "python",
   "pygments_lexer": "ipython3",
   "version": "3.13.1"
  }
 },
 "nbformat": 4,
 "nbformat_minor": 5
}
