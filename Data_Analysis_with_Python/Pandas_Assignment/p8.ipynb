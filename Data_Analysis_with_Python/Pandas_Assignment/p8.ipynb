{
 "cells": [
  {
   "cell_type": "markdown",
   "id": "e6bf68d0",
   "metadata": {},
   "source": [
    "# Assignment8: Pivot Tables"
   ]
  },
  {
   "cell_type": "markdown",
   "id": "95295736",
   "metadata": {},
   "source": [
    "# Q1"
   ]
  },
  {
   "cell_type": "code",
   "execution_count": 1,
   "id": "305b4051",
   "metadata": {},
   "outputs": [],
   "source": [
    "import numpy as np\n",
    "import pandas as pd \n"
   ]
  },
  {
   "cell_type": "code",
   "execution_count": 2,
   "id": "1c2657a6",
   "metadata": {},
   "outputs": [
    {
     "name": "stdout",
     "output_type": "stream",
     "text": [
      "Original DataFrame:\n",
      "         Date Category  Value\n",
      "0  2022-01-03        B     58\n",
      "1  2022-01-08        A     72\n",
      "2  2022-01-06        B     61\n",
      "3  2022-01-06        A     61\n",
      "4  2022-01-07        C     78\n",
      "5  2022-01-02        A      9\n",
      "6  2022-01-02        B      2\n",
      "7  2022-01-02        A     74\n",
      "8  2022-01-09        A     77\n",
      "9  2022-01-10        B     42\n",
      "10 2022-01-07        A     47\n",
      "11 2022-01-10        B     33\n",
      "12 2022-01-07        C     22\n",
      "13 2022-01-06        C     35\n",
      "14 2022-01-06        C      1\n",
      "15 2022-01-03        C     45\n",
      "16 2022-01-09        A     19\n",
      "17 2022-01-01        C      5\n",
      "18 2022-01-01        C     32\n",
      "19 2022-01-09        B     73\n"
     ]
    }
   ],
   "source": [
    "# create a pandas dataframe with columns 'Date', 'Category', and 'Values'\n",
    "date_rng = pd.date_range(start='2022-01-01', end='2022-01-10', freq='D')\n",
    "df = pd.DataFrame({'Date': np.random.choice(date_rng, size=20), 'Category': np.random.choice(['A', 'B', 'C'], size=20),'Value': np.random.randint(1,100, size=20),})\n",
    "print(\"Original DataFrame:\")\n",
    "print(df)"
   ]
  },
  {
   "cell_type": "code",
   "execution_count": 3,
   "id": "bc0af8dd",
   "metadata": {},
   "outputs": [
    {
     "name": "stdout",
     "output_type": "stream",
     "text": [
      "Pivot Table:\n",
      "Category       A     B      C\n",
      "Date                         \n",
      "2022-01-01   NaN   NaN   37.0\n",
      "2022-01-02  83.0   2.0    NaN\n",
      "2022-01-03   NaN  58.0   45.0\n",
      "2022-01-06  61.0  61.0   36.0\n",
      "2022-01-07  47.0   NaN  100.0\n",
      "2022-01-08  72.0   NaN    NaN\n",
      "2022-01-09  96.0  73.0    NaN\n",
      "2022-01-10   NaN  75.0    NaN\n"
     ]
    }
   ],
   "source": [
    "# Create a pivot table to compute the sum of 'Value' for each 'Category' by 'Date'\n",
    "pivot_table= df.pivot_table(values='Value', index='Date', columns='Category', aggfunc='sum')\n",
    "print(\"Pivot Table:\")\n",
    "print(pivot_table)\n",
    "\n"
   ]
  },
  {
   "cell_type": "markdown",
   "id": "2d2c467c",
   "metadata": {},
   "source": [
    "# Q2"
   ]
  },
  {
   "cell_type": "code",
   "execution_count": 4,
   "id": "003f4e1b",
   "metadata": {},
   "outputs": [
    {
     "name": "stdout",
     "output_type": "stream",
     "text": [
      "Original DataFrame:\n",
      "    Year Quarter  Revenue\n",
      "0   2020      Q2       86\n",
      "1   2020      Q1       95\n",
      "2   2021      Q2       74\n",
      "3   2020      Q1       65\n",
      "4   2022      Q4       87\n",
      "5   2020      Q1       88\n",
      "6   2021      Q1       84\n",
      "7   2022      Q2       32\n",
      "8   2022      Q3        4\n",
      "9   2021      Q1       42\n",
      "10  2022      Q4       26\n",
      "11  2020      Q3       63\n"
     ]
    }
   ],
   "source": [
    "# create a panda dataframe with columns 'Yera' 'Quarter'and 'Revenue'\n",
    "df = pd.DataFrame({'Year': np.random.choice([2020,2021,2022],size=12), 'Quarter':np.random.choice(['Q1','Q2','Q3','Q4'], size=12), 'Revenue':np.random.randint(1,100, size=12)})\n",
    "print(\"Original DataFrame:\")\n",
    "print(df)"
   ]
  },
  {
   "cell_type": "code",
   "execution_count": 5,
   "id": "0d861565",
   "metadata": {},
   "outputs": [
    {
     "name": "stdout",
     "output_type": "stream",
     "text": [
      "Pivot Table:\n",
      "Quarter         Q1    Q2    Q3    Q4\n",
      "Year                                \n",
      "2020     82.666667  86.0  63.0   NaN\n",
      "2021     63.000000  74.0   NaN   NaN\n",
      "2022           NaN  32.0   4.0  56.5\n"
     ]
    }
   ],
   "source": [
    "# create a pivot table to compute the mean 'Revenue'for each 'Quarter' by 'Year'\n",
    "pivot_table = df.pivot_table(values='Revenue', index='Year', columns='Quarter', aggfunc='mean')\n",
    "print(f\"Pivot Table:\\n{pivot_table}\")"
   ]
  },
  {
   "cell_type": "code",
   "execution_count": null,
   "id": "c492f4d6",
   "metadata": {},
   "outputs": [],
   "source": []
  },
  {
   "cell_type": "code",
   "execution_count": null,
   "id": "f0baa77c",
   "metadata": {},
   "outputs": [],
   "source": []
  },
  {
   "cell_type": "code",
   "execution_count": null,
   "id": "2b1237ad",
   "metadata": {},
   "outputs": [],
   "source": []
  },
  {
   "cell_type": "code",
   "execution_count": null,
   "id": "973d111d",
   "metadata": {},
   "outputs": [],
   "source": []
  },
  {
   "cell_type": "code",
   "execution_count": null,
   "id": "07d9f667",
   "metadata": {},
   "outputs": [],
   "source": []
  }
 ],
 "metadata": {
  "kernelspec": {
   "display_name": "Python 3",
   "language": "python",
   "name": "python3"
  },
  "language_info": {
   "codemirror_mode": {
    "name": "ipython",
    "version": 3
   },
   "file_extension": ".py",
   "mimetype": "text/x-python",
   "name": "python",
   "nbconvert_exporter": "python",
   "pygments_lexer": "ipython3",
   "version": "3.13.1"
  }
 },
 "nbformat": 4,
 "nbformat_minor": 5
}
