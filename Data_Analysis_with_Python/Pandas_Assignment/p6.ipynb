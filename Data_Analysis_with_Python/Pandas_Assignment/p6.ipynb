{
 "cells": [
  {
   "cell_type": "markdown",
   "id": "4e550efa",
   "metadata": {},
   "source": [
    "# Assignment6: Time Series Analysis "
   ]
  },
  {
   "cell_type": "markdown",
   "id": "eeb23ee4",
   "metadata": {},
   "source": [
    "# Q1"
   ]
  },
  {
   "cell_type": "code",
   "execution_count": 1,
   "id": "03800f5a",
   "metadata": {},
   "outputs": [],
   "source": [
    "import pandas as pd\n",
    "import numpy as np"
   ]
  },
  {
   "cell_type": "code",
   "execution_count": 3,
   "id": "3f6ad552",
   "metadata": {},
   "outputs": [
    {
     "name": "stdout",
     "output_type": "stream",
     "text": [
      "Original DataFrame:\n",
      "            data\n",
      "date            \n",
      "2022-05-01    84\n",
      "2022-05-02    76\n",
      "2022-05-03     3\n",
      "2022-05-04     1\n",
      "2022-05-05    66\n",
      "...          ...\n",
      "2022-12-27    19\n",
      "2022-12-28    13\n",
      "2022-12-29     4\n",
      "2022-12-30    53\n",
      "2022-12-31    67\n",
      "\n",
      "[245 rows x 1 columns]\n"
     ]
    }
   ],
   "source": [
    "# Create a pandas Dataframe with a datetime index and one column filled with random integers.\n",
    "date_rng = pd.date_range(start= '2022-05-01', end= '2022-12-31', freq='D' )\n",
    "df = pd.DataFrame(date_rng, columns=['date'])\n",
    "df['data'] = np.random.randint(0,100, size=(len(date_rng)))\n",
    "df.set_index('date', inplace=True)\n",
    "print(\"Original DataFrame:\")\n",
    "print(df)\n",
    "\n",
    "\n"
   ]
  },
  {
   "cell_type": "code",
   "execution_count": 5,
   "id": "a9fbf6b2",
   "metadata": {},
   "outputs": [
    {
     "name": "stdout",
     "output_type": "stream",
     "text": [
      "Monthly mean DataFrame:\n",
      "                 data\n",
      "date                 \n",
      "2022-05-31  39.967742\n",
      "2022-06-30  46.866667\n",
      "2022-07-31  48.483871\n",
      "2022-08-31  49.935484\n",
      "2022-09-30  50.133333\n",
      "2022-10-31  51.516129\n",
      "2022-11-30  56.033333\n",
      "2022-12-31  45.064516\n"
     ]
    },
    {
     "name": "stderr",
     "output_type": "stream",
     "text": [
      "/var/folders/4f/6s4zkngj5jj99q0nw2m8lh5w0000gn/T/ipykernel_65363/225275167.py:2: FutureWarning: 'M' is deprecated and will be removed in a future version, please use 'ME' instead.\n",
      "  monthly_mean = df.resample('M').mean()\n"
     ]
    }
   ],
   "source": [
    "# resample the dataframe to compute the monthly mean of the values \n",
    "monthly_mean = df.resample('M').mean()\n",
    "print(\"Monthly mean DataFrame:\")\n",
    "print(monthly_mean)"
   ]
  },
  {
   "cell_type": "markdown",
   "id": "5f38c459",
   "metadata": {},
   "source": [
    "# Q2"
   ]
  },
  {
   "cell_type": "code",
   "execution_count": 6,
   "id": "f1f97f2a",
   "metadata": {},
   "outputs": [
    {
     "name": "stdout",
     "output_type": "stream",
     "text": [
      "Original DataFrame\n",
      "            data\n",
      "date            \n",
      "2021-01-01    82\n",
      "2021-01-02    78\n",
      "2021-01-03     6\n",
      "2021-01-04    57\n",
      "2021-01-05    30\n",
      "...          ...\n",
      "2021-12-27     6\n",
      "2021-12-28    10\n",
      "2021-12-29    14\n",
      "2021-12-30    27\n",
      "2021-12-31    76\n",
      "\n",
      "[365 rows x 1 columns]\n"
     ]
    }
   ],
   "source": [
    "# create a pandas dataframe with a datetime index ranging from '2021-01-01 to '2021-12-31 and one collumn filled with random integers\n",
    "date_rng = pd.date_range(start='2021-01-01', end= '2021-12-31', freq='D')\n",
    "df = pd.DataFrame(date_rng, columns=['date'])\n",
    "df['data'] = np.random.randint(0,100, size=(len(date_rng)))\n",
    "df.set_index('date', inplace=True)\n",
    "print(\"Original DataFrame\")\n",
    "print(df)"
   ]
  },
  {
   "cell_type": "code",
   "execution_count": 7,
   "id": "523d40fe",
   "metadata": {},
   "outputs": [
    {
     "name": "stdout",
     "output_type": "stream",
     "text": [
      "Rolling mean DataFrame:\n",
      "                 data\n",
      "date                 \n",
      "2021-01-01        NaN\n",
      "2021-01-02        NaN\n",
      "2021-01-03        NaN\n",
      "2021-01-04        NaN\n",
      "2021-01-05        NaN\n",
      "...               ...\n",
      "2021-12-27  46.285714\n",
      "2021-12-28  44.571429\n",
      "2021-12-29  41.285714\n",
      "2021-12-30  36.428571\n",
      "2021-12-31  39.142857\n",
      "\n",
      "[365 rows x 1 columns]\n"
     ]
    }
   ],
   "source": [
    "# compute the rolling mean with a window of 7 days\n",
    "rolling_mean = df.rolling(window=7).mean()\n",
    "print(\"Rolling mean DataFrame:\")\n",
    "print(rolling_mean)"
   ]
  },
  {
   "cell_type": "code",
   "execution_count": null,
   "id": "43541df9",
   "metadata": {},
   "outputs": [],
   "source": []
  }
 ],
 "metadata": {
  "kernelspec": {
   "display_name": "Python 3",
   "language": "python",
   "name": "python3"
  },
  "language_info": {
   "codemirror_mode": {
    "name": "ipython",
    "version": 3
   },
   "file_extension": ".py",
   "mimetype": "text/x-python",
   "name": "python",
   "nbconvert_exporter": "python",
   "pygments_lexer": "ipython3",
   "version": "3.13.1"
  }
 },
 "nbformat": 4,
 "nbformat_minor": 5
}
