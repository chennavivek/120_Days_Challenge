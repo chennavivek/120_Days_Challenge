{
 "cells": [
  {
   "cell_type": "markdown",
   "id": "ff5d1004",
   "metadata": {},
   "source": [
    "# Assignment: Applying Functions"
   ]
  },
  {
   "cell_type": "markdown",
   "id": "7406780e",
   "metadata": {},
   "source": [
    "# Q1"
   ]
  },
  {
   "cell_type": "code",
   "execution_count": 2,
   "id": "f83f0e38",
   "metadata": {},
   "outputs": [],
   "source": [
    "import numpy as np \n",
    "import pandas as pd"
   ]
  },
  {
   "cell_type": "code",
   "execution_count": 3,
   "id": "1e2d822b",
   "metadata": {},
   "outputs": [
    {
     "name": "stdout",
     "output_type": "stream",
     "text": [
      "Original DataFrame:\n",
      "    A   B   C\n",
      "0  50  69   2\n",
      "1  16  54  41\n",
      "2   5  83  86\n",
      "3  80  73  91\n",
      "4  82  95  81\n"
     ]
    }
   ],
   "source": [
    "# create a pandas dataframe with 3 columns and 5 rows filled with random intgers.\n",
    "df = pd.DataFrame(np.random.randint(1,100, size=(5,3)), columns=['A', 'B', 'C'])\n",
    "print(\"Original DataFrame:\")\n",
    "print(df)\n"
   ]
  },
  {
   "cell_type": "code",
   "execution_count": 4,
   "id": "c26b5739",
   "metadata": {},
   "outputs": [
    {
     "name": "stdout",
     "output_type": "stream",
     "text": [
      "Doubled DataFrame:\n",
      "     A    B    C\n",
      "0  100  138    4\n",
      "1   32  108   82\n",
      "2   10  166  172\n",
      "3  160  146  182\n",
      "4  164  190  162\n"
     ]
    },
    {
     "name": "stderr",
     "output_type": "stream",
     "text": [
      "/var/folders/4f/6s4zkngj5jj99q0nw2m8lh5w0000gn/T/ipykernel_68817/2216481015.py:2: FutureWarning: DataFrame.applymap has been deprecated. Use DataFrame.map instead.\n",
      "  df_double = df.applymap(lambda x:x*2)\n"
     ]
    }
   ],
   "source": [
    "# Apply a function that doubles the values of the dataframe\n",
    "df_double = df.applymap(lambda x:x*2)\n",
    "print(f\"Doubled DataFrame:\\n{df_double}\")"
   ]
  },
  {
   "cell_type": "markdown",
   "id": "1924d63c",
   "metadata": {},
   "source": [
    "# Q2"
   ]
  },
  {
   "cell_type": "code",
   "execution_count": 6,
   "id": "be0f561c",
   "metadata": {},
   "outputs": [
    {
     "name": "stdout",
     "output_type": "stream",
     "text": [
      "Original DataFrame:\n",
      "    A   B   C\n",
      "0  60  60  48\n",
      "1  52  54  65\n",
      "2  63  44  59\n",
      "3  39  51  60\n",
      "4  35  51   8\n",
      "5  27  45  74\n"
     ]
    }
   ],
   "source": [
    "# Create a pandas dataframe with 3 columns and 6 rows filled with random integers\n",
    "df = pd.DataFrame(np.random.randint(1,100, size=(6,3)), columns=['A', 'B', 'C'])\n",
    "print(f\"Original DataFrame:\\n{df}\")\n"
   ]
  },
  {
   "cell_type": "code",
   "execution_count": 11,
   "id": "468ca6dd",
   "metadata": {},
   "outputs": [
    {
     "name": "stdout",
     "output_type": "stream",
     "text": [
      "DataFrame with Sum column:\n",
      "    A   B   C  Sum\n",
      "0  60  60  48  168\n",
      "1  52  54  65  171\n",
      "2  63  44  59  166\n",
      "3  39  51  60  150\n",
      "4  35  51   8   94\n",
      "5  27  45  74  146\n"
     ]
    }
   ],
   "source": [
    "# Apply a lambda function to create a new column that is the sum of the existing columns \n",
    "df['Sum']= df.apply(lambda row:row.sum(), axis=1)\n",
    "print(\"DataFrame with Sum column:\")\n",
    "print(df)\n"
   ]
  },
  {
   "cell_type": "code",
   "execution_count": null,
   "id": "a54c0fb4",
   "metadata": {},
   "outputs": [],
   "source": []
  }
 ],
 "metadata": {
  "kernelspec": {
   "display_name": "Python 3",
   "language": "python",
   "name": "python3"
  },
  "language_info": {
   "codemirror_mode": {
    "name": "ipython",
    "version": 3
   },
   "file_extension": ".py",
   "mimetype": "text/x-python",
   "name": "python",
   "nbconvert_exporter": "python",
   "pygments_lexer": "ipython3",
   "version": "3.13.1"
  }
 },
 "nbformat": 4,
 "nbformat_minor": 5
}
