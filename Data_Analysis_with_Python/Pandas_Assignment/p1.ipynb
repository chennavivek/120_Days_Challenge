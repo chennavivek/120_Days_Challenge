{
 "cells": [
  {
   "cell_type": "markdown",
   "id": "2e89b6ef",
   "metadata": {},
   "source": [
    "# Assignment1: DataFrame Creating and Indexing"
   ]
  },
  {
   "cell_type": "markdown",
   "id": "84e306a5",
   "metadata": {},
   "source": [
    "# Q1"
   ]
  },
  {
   "cell_type": "code",
   "execution_count": 2,
   "id": "253db783",
   "metadata": {},
   "outputs": [],
   "source": [
    "import numpy as np \n",
    "import pandas as pd"
   ]
  },
  {
   "cell_type": "code",
   "execution_count": 15,
   "id": "c891569f",
   "metadata": {},
   "outputs": [
    {
     "name": "stdout",
     "output_type": "stream",
     "text": [
      "          Column_B  Column_C  Column_D\n",
      "Column_A                              \n",
      "6               51        42        84\n",
      "49              25        81         0\n",
      "81              44        84        57\n",
      "81              10        35        13\n",
      "17               9        16         4\n",
      "47              80        88        11\n"
     ]
    }
   ],
   "source": [
    "# Generate a 6x4 array of random integers\n",
    "# The integers will be between 0 and 100 (inclusive)\n",
    "random_data = np.random.randint(0, 101, size=(6, 4))\n",
    "\n",
    "# Create a Pandas DataFrame from the random data\n",
    "# Assign column names for clarity\n",
    "df = pd.DataFrame(random_data, columns=['Column_A', 'Column_B', 'Column_C', 'Column_D'])\n",
    "\n",
    "# Set the first column ('Column_A') as the index\n",
    "# Using .set_index() and inplace=True modifies the DataFrame directly\n",
    "df.set_index('Column_A', inplace=True)\n",
    "\n",
    "# Display the DataFrame\n",
    "print(df)"
   ]
  },
  {
   "cell_type": "markdown",
   "id": "9dad6924",
   "metadata": {},
   "source": [
    "2nd method "
   ]
  },
  {
   "cell_type": "code",
   "execution_count": 18,
   "id": "1570ee36",
   "metadata": {},
   "outputs": [
    {
     "name": "stdout",
     "output_type": "stream",
     "text": [
      "original array\n",
      "    A   B   C   D\n",
      "0  71  99  36  81\n",
      "1  52  47  58   4\n",
      "2  94  35  15  74\n",
      "3  97  25  96  83\n",
      "4  21  73  33   9\n",
      "5  47  57  95  27\n"
     ]
    }
   ],
   "source": [
    "df = pd.DataFrame(np.random.randint(1,100, size=(6,4)),columns=['A', 'B', 'C', 'D'])\n",
    "print(\"original array\")\n",
    "print(df)"
   ]
  },
  {
   "cell_type": "code",
   "execution_count": 19,
   "id": "6bce8790",
   "metadata": {},
   "outputs": [
    {
     "name": "stdout",
     "output_type": "stream",
     "text": [
      "DataFrame with new index:\n",
      "     B   C   D\n",
      "A             \n",
      "71  99  36  81\n",
      "52  47  58   4\n",
      "94  35  15  74\n",
      "97  25  96  83\n",
      "21  73  33   9\n",
      "47  57  95  27\n"
     ]
    }
   ],
   "source": [
    "#set the index to the first column\n",
    "df.set_index('A', inplace=True)\n",
    "print(\"DataFrame with new index:\")\n",
    "print(df)"
   ]
  },
  {
   "cell_type": "markdown",
   "id": "2030d44e",
   "metadata": {},
   "source": [
    "# Q2"
   ]
  },
  {
   "cell_type": "code",
   "execution_count": 26,
   "id": "a5ee520d",
   "metadata": {},
   "outputs": [
    {
     "name": "stdout",
     "output_type": "stream",
     "text": [
      "Original DataFrame:\n",
      "    A   B   C\n",
      "X  85   6  21\n",
      "Y  25  21  73\n",
      "Z  64  80  80\n"
     ]
    }
   ],
   "source": [
    "# create a pandan dataframe with specified columns and index\n",
    "df = pd.DataFrame(np.random.randint(1, 100, size=(3,3)), columns=['A', 'B', 'C'], index=[ 'X', 'Y', 'Z'] )\n",
    "print(\"Original DataFrame:\")\n",
    "print(df)\n",
    "\n",
    "\n",
    "\n",
    "\n",
    "\n"
   ]
  },
  {
   "cell_type": "code",
   "execution_count": 27,
   "id": "3bcd1e94",
   "metadata": {},
   "outputs": [
    {
     "name": "stdout",
     "output_type": "stream",
     "text": [
      "Element at row 'Y' and column 'B': 21\n"
     ]
    }
   ],
   "source": [
    "# Access the elements at row 'Y' and column 'B'\n",
    "element = df.at['Y','B']\n",
    "print(f\"Element at row 'Y' and column 'B': {element}\")"
   ]
  },
  {
   "cell_type": "code",
   "execution_count": null,
   "id": "72c51766",
   "metadata": {},
   "outputs": [],
   "source": []
  }
 ],
 "metadata": {
  "kernelspec": {
   "display_name": "Python 3",
   "language": "python",
   "name": "python3"
  },
  "language_info": {
   "codemirror_mode": {
    "name": "ipython",
    "version": 3
   },
   "file_extension": ".py",
   "mimetype": "text/x-python",
   "name": "python",
   "nbconvert_exporter": "python",
   "pygments_lexer": "ipython3",
   "version": "3.13.1"
  }
 },
 "nbformat": 4,
 "nbformat_minor": 5
}
