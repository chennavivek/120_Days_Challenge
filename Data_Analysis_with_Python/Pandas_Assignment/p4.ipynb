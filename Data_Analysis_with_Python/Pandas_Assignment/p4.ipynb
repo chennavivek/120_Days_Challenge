{
 "cells": [
  {
   "cell_type": "markdown",
   "id": "5d60ace9",
   "metadata": {},
   "source": [
    "# Assignment4: Data Aggregation\n"
   ]
  },
  {
   "cell_type": "markdown",
   "id": "e0596614",
   "metadata": {},
   "source": [
    "# Q1"
   ]
  },
  {
   "cell_type": "code",
   "execution_count": 2,
   "id": "1267094b",
   "metadata": {},
   "outputs": [],
   "source": [
    "import numpy as np\n",
    "import pandas as pd"
   ]
  },
  {
   "cell_type": "code",
   "execution_count": null,
   "id": "d159fd24",
   "metadata": {},
   "outputs": [
    {
     "name": "stdout",
     "output_type": "stream",
     "text": [
      "Original DataFrame:\n",
      "  Category  Value\n",
      "0        B     83\n",
      "1        B     43\n",
      "2        C     41\n",
      "3        A     52\n",
      "4        C     83\n",
      "5        B     14\n",
      "6        B     33\n",
      "7        B     64\n",
      "8        B     57\n",
      "9        B     98\n"
     ]
    }
   ],
   "source": [
    "# create a pandas dataframe with 2 columns: \"Category\" and :\"Value\".\n",
    "# Fill the Category column with random with random categories (['A','B','C'])\n",
    "# and the Value column with random intehers\n",
    "df = pd.DataFrame({'Category': np.random.choice(['A','B','C'], size=10), 'Value': np.random.randint(1,100, size=10)}) \n",
    "print(\"Original DataFrame:\")\n",
    "print(df)"
   ]
  },
  {
   "cell_type": "code",
   "execution_count": 5,
   "id": "be5e0bb7",
   "metadata": {},
   "outputs": [
    {
     "name": "stdout",
     "output_type": "stream",
     "text": [
      "Grouped DataFrame:\n",
      "          sum  mean\n",
      "Category           \n",
      "A          52  52.0\n",
      "B         392  56.0\n",
      "C         124  62.0\n"
     ]
    }
   ],
   "source": [
    "# Group the DataFrame by \"Category\" and compute the sum and mean of \"Value\" for each category\n",
    "grouped = df.groupby('Category')['Value'].agg(['sum', 'mean'])\n",
    "print(\"Grouped DataFrame:\")\n",
    "print(grouped)"
   ]
  },
  {
   "cell_type": "markdown",
   "id": "ba134a7e",
   "metadata": {},
   "source": [
    "# Q2"
   ]
  },
  {
   "cell_type": "code",
   "execution_count": 7,
   "id": "c6f0cc8c",
   "metadata": {},
   "outputs": [
    {
     "name": "stdout",
     "output_type": "stream",
     "text": [
      "Original DataFrame:\n",
      "  Product Category  Sales\n",
      "0   Prod3        B     71\n",
      "1   Prod2        B     81\n",
      "2   Prod3        B     67\n",
      "3   Prod3        B     90\n",
      "4   Prod3        A      4\n",
      "5   Prod2        A      2\n",
      "6   Prod1        C     77\n",
      "7   Prod3        B     63\n",
      "8   Prod3        A     64\n",
      "9   Prod2        C     97\n"
     ]
    }
   ],
   "source": [
    "# create a pandas DataFrame with3 columns: 'Product', 'Category', 'Sales'\n",
    "# Fill the DataFrame with random data\n",
    "df = pd.DataFrame({'Product': np.random.choice(['Prod1', 'Prod2', 'Prod3'], size=10), 'Category':np.random.choice(['A', 'B', 'C'],size=10), 'Sales': np.random.randint(1,100, size=10)})\n",
    "print(\"Original DataFrame:\")\n",
    "print(df)"
   ]
  },
  {
   "cell_type": "code",
   "execution_count": 8,
   "id": "4a9a1819",
   "metadata": {},
   "outputs": [
    {
     "name": "stdout",
     "output_type": "stream",
     "text": [
      "Category\n",
      "A     70\n",
      "B    372\n",
      "C    174\n",
      "Name: Sales, dtype: int64\n"
     ]
    }
   ],
   "source": [
    "# Group the DataFrame by 'Category' and compute the toatl sales for each category\n",
    "grouped = df.groupby('Category')['Sales'].sum()\n",
    "print(grouped)"
   ]
  },
  {
   "cell_type": "code",
   "execution_count": null,
   "id": "a7374013",
   "metadata": {},
   "outputs": [],
   "source": []
  }
 ],
 "metadata": {
  "kernelspec": {
   "display_name": "Python 3",
   "language": "python",
   "name": "python3"
  },
  "language_info": {
   "codemirror_mode": {
    "name": "ipython",
    "version": 3
   },
   "file_extension": ".py",
   "mimetype": "text/x-python",
   "name": "python",
   "nbconvert_exporter": "python",
   "pygments_lexer": "ipython3",
   "version": "3.13.1"
  }
 },
 "nbformat": 4,
 "nbformat_minor": 5
}
