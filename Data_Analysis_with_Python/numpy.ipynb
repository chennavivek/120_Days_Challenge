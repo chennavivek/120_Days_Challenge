{
 "cells": [
  {
   "cell_type": "markdown",
   "id": "0b7dc708",
   "metadata": {},
   "source": [
    "# NUMPY"
   ]
  },
  {
   "cell_type": "code",
   "execution_count": 1,
   "id": "735d871e",
   "metadata": {},
   "outputs": [
    {
     "name": "stdout",
     "output_type": "stream",
     "text": [
      "Requirement already satisfied: numpy in /opt/anaconda3/lib/python3.12/site-packages (1.26.4)\n"
     ]
    }
   ],
   "source": [
    "!pip install numpy"
   ]
  },
  {
   "cell_type": "code",
   "execution_count": 2,
   "id": "f435b9e6",
   "metadata": {},
   "outputs": [],
   "source": [
    "import numpy as np"
   ]
  },
  {
   "cell_type": "code",
   "execution_count": 5,
   "id": "1fb976ee",
   "metadata": {},
   "outputs": [
    {
     "name": "stdout",
     "output_type": "stream",
     "text": [
      "[1 2 3 4 5]\n",
      "<class 'numpy.ndarray'>\n",
      "(5,)\n"
     ]
    }
   ],
   "source": [
    "# create a numpy array \n",
    "# creating a 1D array\n",
    "\n",
    "arr1 = np.array([1, 2, 3, 4, 5])\n",
    "print(arr1)\n",
    "\n",
    "# how to find the type of array \n",
    "print(type(arr1))\n",
    "\n",
    "# how to find a shape of array\n",
    "print(arr1.shape)"
   ]
  },
  {
   "cell_type": "code",
   "execution_count": null,
   "id": "8710a6c4",
   "metadata": {},
   "outputs": [
    {
     "data": {
      "text/plain": [
       "array([[1, 2, 3, 4, 5]])"
      ]
     },
     "execution_count": 11,
     "metadata": {},
     "output_type": "execute_result"
    }
   ],
   "source": [
    "# reshape the array to 2D\n",
    "arr2 = np.array([1, 2, 3, 4, 5])\n",
    "arr2.reshape(1,5)  # reshape to 1 row and 5 coluumns\n"
   ]
  },
  {
   "cell_type": "code",
   "execution_count": null,
   "id": "bfd77642",
   "metadata": {},
   "outputs": [
    {
     "data": {
      "text/plain": [
       "(1, 5)"
      ]
     },
     "execution_count": 12,
     "metadata": {},
     "output_type": "execute_result"
    }
   ],
   "source": [
    "# list of lists\n",
    "# creating a 2D array\n",
    "arr3 = np.array([[1, 2, 3, 4, 5]])\n",
    "arr3.shape  # shape of 2D array"
   ]
  },
  {
   "cell_type": "code",
   "execution_count": null,
   "id": "0c665e41",
   "metadata": {},
   "outputs": [
    {
     "name": "stdout",
     "output_type": "stream",
     "text": [
      "[[ 1  2  3  4  5]\n",
      " [ 6  7  8  9 10]]\n"
     ]
    },
    {
     "data": {
      "text/plain": [
       "(2, 5)"
      ]
     },
     "execution_count": 13,
     "metadata": {},
     "output_type": "execute_result"
    }
   ],
   "source": [
    "# 2D array with multiple rows\n",
    "# creating a 2D array with 2 rows and 5 columns\n",
    "arr4 = np.array([[1, 2, 3, 4, 5], [6, 7, 8, 9, 10]])  # creating a 2D array with 2 rows and 5 columns\n",
    "print(arr4)\n",
    "arr4.shape  "
   ]
  },
  {
   "cell_type": "code",
   "execution_count": 21,
   "id": "1a514f5c",
   "metadata": {},
   "outputs": [
    {
     "data": {
      "text/plain": [
       "array([[1],\n",
       "       [3],\n",
       "       [5],\n",
       "       [7],\n",
       "       [9]])"
      ]
     },
     "execution_count": 21,
     "metadata": {},
     "output_type": "execute_result"
    }
   ],
   "source": [
    "# create a arraay with inbuilt function\n",
    "\n",
    "np.arange(1, 11, 2).reshape(5,1)"
   ]
  },
  {
   "cell_type": "code",
   "execution_count": null,
   "id": "35146c3c",
   "metadata": {},
   "outputs": [
    {
     "data": {
      "text/plain": [
       "array([[1., 1., 1.],\n",
       "       [1., 1., 1.],\n",
       "       [1., 1., 1.]])"
      ]
     },
     "execution_count": 22,
     "metadata": {},
     "output_type": "execute_result"
    }
   ],
   "source": [
    "# create a 3x3 array of ones\n",
    "np.ones((3, 3))"
   ]
  },
  {
   "cell_type": "code",
   "execution_count": 23,
   "id": "954ef691",
   "metadata": {},
   "outputs": [
    {
     "data": {
      "text/plain": [
       "array([[1., 0., 0.],\n",
       "       [0., 1., 0.],\n",
       "       [0., 0., 1.]])"
      ]
     },
     "execution_count": 23,
     "metadata": {},
     "output_type": "execute_result"
    }
   ],
   "source": [
    "# identity matrix\n",
    "np.eye(3)"
   ]
  },
  {
   "cell_type": "code",
   "execution_count": null,
   "id": "0c548275",
   "metadata": {},
   "outputs": [
    {
     "name": "stdout",
     "output_type": "stream",
     "text": [
      "[[1 2 3]\n",
      " [4 5 6]]\n",
      "Array: \n",
      " [[1 2 3]\n",
      " [4 5 6]]\n",
      "Shape of the array; (2, 3)\n",
      "Number of dimensions: 2\n",
      "Data type oh the array: int64\n",
      "Size of the arraay: 6\n"
     ]
    }
   ],
   "source": [
    "# attributes of numpy array\n",
    "arr = np.array([[1,2,3],[4,5,6]])\n",
    "# Displaying the properties of the array\n",
    "print(\"Array: \\n\", arr)\n",
    "print(\"Shape of the array;\", arr.shape)\n",
    "print(\"Number of dimensions:\", arr.ndim)\n",
    "print(\"Data type oh the array:\", arr.dtype)\n",
    "print(\"Size of the arraay:\", arr.size)"
   ]
  },
  {
   "cell_type": "code",
   "execution_count": 30,
   "id": "28b2d5b3",
   "metadata": {},
   "outputs": [
    {
     "name": "stdout",
     "output_type": "stream",
     "text": [
      "The Addition of the two arrays: [ 7  9 11 13 15]\n",
      "The Subtraction of the two arrays: [5 5 5 5 5]\n",
      "The Multiplication of the two arrays: [ 6 14 24 36 50]\n",
      "The Division of the two arrays: [6.         3.5        2.66666667 2.25       2.        ]\n"
     ]
    }
   ],
   "source": [
    "# Numpy Vectorized Operations \n",
    "\n",
    "ver_arr = np.array([1,2,3,4,5])\n",
    "ver1_arr = np.array([6,7,8,9,10])\n",
    "\n",
    "# Adding two arrays\n",
    "print(\"The Addition of the two arrays:\", ver_arr + ver1_arr)\n",
    "\n",
    "# Subtracting two arrays\n",
    "print(\"The Subtraction of the two arrays:\", ver1_arr - ver_arr)     \n",
    "\n",
    "# Multiplying two arrays\n",
    "print(\"The Multiplication of the two arrays:\", ver_arr * ver1_arr)\n",
    "\n",
    "# Dividing two arrays\n",
    "print(\"The Division of the two arrays:\", ver1_arr / ver_arr)"
   ]
  },
  {
   "cell_type": "code",
   "execution_count": null,
   "id": "c143a392",
   "metadata": {},
   "outputs": [
    {
     "name": "stdout",
     "output_type": "stream",
     "text": [
      "Square root of the array: [1.         1.41421356 1.73205081 2.         2.23606798]\n",
      "Exponential of the array: [  2.71828183   7.3890561   20.08553692  54.59815003 148.4131591 ]\n",
      "Logarithm of the array: [0.         0.69314718 1.09861229 1.38629436 1.60943791]\n",
      "Sine of the array: [ 0.84147098  0.90929743  0.14112001 -0.7568025  -0.95892427]\n",
      "Cosine of the array: [ 0.54030231 -0.41614684 -0.9899925  -0.65364362  0.28366219]\n",
      "Dot product of the two arrays:\n",
      " [[19 22]\n",
      " [43 50]]\n"
     ]
    }
   ],
   "source": [
    "# Universal Functions in Numpy\n",
    "arr = np.array([1,2,3,4,5])\n",
    "# Square root of an array\n",
    "print(\"Square root of the array:\", np.sqrt(arr))\n",
    "# Exponential of an array\n",
    "print(\"Exponential of the array:\", np.exp(arr))\n",
    "# Logarithm of an array\n",
    "print(\"Logarithm of the array:\", np.log(arr))\n",
    "# Trigonometric functions\n",
    "print(\"Sine of the array:\", np.sin(arr))\n",
    "print(\"Cosine of the array:\", np.cos(arr))\n",
    "# Linear Algebra Operations\n",
    "# Dot product of two arrays\n",
    "arr1 = np.array([[1, 2], [3, 4]])\n",
    "arr2 = np.array([[5, 6], [7, 8]])\n",
    "print(\"Dot product of the two arrays:\\n\", np.dot(arr1, arr2))   \n",
    "   "
   ]
  },
  {
   "cell_type": "code",
   "execution_count": 40,
   "id": "fbc46437",
   "metadata": {},
   "outputs": [
    {
     "name": "stdout",
     "output_type": "stream",
     "text": [
      "Array: \n",
      " [[1 2 3]\n",
      " [4 5 6]\n",
      " [7 8 9]]\n"
     ]
    }
   ],
   "source": [
    "# Array Slicing and Indexing\n",
    "# Creating a 2D array\n",
    "\n",
    "arry = np.array([[1,2,3],[4,5,6],[7,8,9]])\n",
    "print(\"Array: \\n\",arry)\n"
   ]
  },
  {
   "cell_type": "code",
   "execution_count": 42,
   "id": "9bfb9690",
   "metadata": {},
   "outputs": [
    {
     "data": {
      "text/plain": [
       "np.int64(1)"
      ]
     },
     "execution_count": 42,
     "metadata": {},
     "output_type": "execute_result"
    }
   ],
   "source": [
    "# Slicing the first element of the first row\n",
    "arry[0, 0]"
   ]
  },
  {
   "cell_type": "code",
   "execution_count": null,
   "id": "31b5bd0b",
   "metadata": {},
   "outputs": [
    {
     "data": {
      "text/plain": [
       "array([[4, 5, 6],\n",
       "       [7, 8, 9]])"
      ]
     },
     "execution_count": 44,
     "metadata": {},
     "output_type": "execute_result"
    }
   ],
   "source": [
    "arry[1:] # Slicing the second row and second column onwards"
   ]
  },
  {
   "cell_type": "code",
   "execution_count": null,
   "id": "9ff4c747",
   "metadata": {},
   "outputs": [
    {
     "data": {
      "text/plain": [
       "array([[5, 6],\n",
       "       [8, 9]])"
      ]
     },
     "execution_count": 47,
     "metadata": {},
     "output_type": "execute_result"
    }
   ],
   "source": [
    "arry[1:, 1:]  # Slicing the second row and second column onwards"
   ]
  },
  {
   "cell_type": "code",
   "execution_count": null,
   "id": "086ba1fb",
   "metadata": {},
   "outputs": [
    {
     "data": {
      "text/plain": [
       "array([[8, 9]])"
      ]
     },
     "execution_count": 50,
     "metadata": {},
     "output_type": "execute_result"
    }
   ],
   "source": [
    "arry[2: , 1:] "
   ]
  },
  {
   "cell_type": "code",
   "execution_count": 52,
   "id": "c8d80237",
   "metadata": {},
   "outputs": [
    {
     "name": "stdout",
     "output_type": "stream",
     "text": [
      "Modified Array: \n",
      " [[ 1 10  3]\n",
      " [ 4  5  6]\n",
      " [ 7  8  9]]\n"
     ]
    }
   ],
   "source": [
    "# Modify the elements\n",
    "arry[0,1]= 10  # Modifying the first row and second column element\n",
    "print(\"Modified Array: \\n\", arry)"
   ]
  },
  {
   "cell_type": "code",
   "execution_count": 58,
   "id": "8aec58cb",
   "metadata": {},
   "outputs": [
    {
     "name": "stdout",
     "output_type": "stream",
     "text": [
      "Mean of the data: 5.0\n",
      "Median of the data: 5.0\n",
      "Standard Deviation of the data: 2.581988897471611\n",
      "Variance of the data: 6.666666666666667\n"
     ]
    }
   ],
   "source": [
    "# statical methods\n",
    "data = np.array([1, 2, 3, 4, 5, 6, 7, 8, 9])\n",
    "\n",
    "# Mean \n",
    "mean = np.mean(data)\n",
    "print(\"Mean of the data:\", mean)\n",
    "\n",
    "# Median\n",
    "median = np.median(data)\n",
    "print(\"Median of the data:\", median)\n",
    "\n",
    "# Standard Deviation\n",
    "std_div = np.std(data)\n",
    "print(\"Standard Deviation of the data:\", std_div)\n",
    "\n",
    "# variance \n",
    "variance = np.var(data)\n",
    "print(\"Variance of the data:\", variance)"
   ]
  },
  {
   "cell_type": "code",
   "execution_count": null,
   "id": "ff17a7bd",
   "metadata": {},
   "outputs": [
    {
     "data": {
      "text/plain": [
       "array([ 6,  7,  8,  9, 10])"
      ]
     },
     "execution_count": 60,
     "metadata": {},
     "output_type": "execute_result"
    }
   ],
   "source": [
    "# Logical Operations\n",
    "data = np.array([1, 2, 3, 4, 5, 6, 7, 8, 9, 10]) \n",
    "data>5 # Logical operation to check if the elements are greater than 5\n",
    "\n",
    "# \n",
    "data[data >= 5]  # Displaying the elements greater than 5"
   ]
  },
  {
   "cell_type": "code",
   "execution_count": 61,
   "id": "a58be724",
   "metadata": {},
   "outputs": [
    {
     "data": {
      "text/plain": [
       "array([3, 4])"
      ]
     },
     "execution_count": 61,
     "metadata": {},
     "output_type": "execute_result"
    }
   ],
   "source": [
    "data[(data < 5) & (data > 2)]  # Displaying the elements less than 5 and greater than 2"
   ]
  },
  {
   "cell_type": "code",
   "execution_count": null,
   "id": "f7c7b6e0",
   "metadata": {},
   "outputs": [],
   "source": []
  }
 ],
 "metadata": {
  "kernelspec": {
   "display_name": "Python 3",
   "language": "python",
   "name": "python3"
  },
  "language_info": {
   "codemirror_mode": {
    "name": "ipython",
    "version": 3
   },
   "file_extension": ".py",
   "mimetype": "text/x-python",
   "name": "python",
   "nbconvert_exporter": "python",
   "pygments_lexer": "ipython3",
   "version": "3.13.1"
  }
 },
 "nbformat": 4,
 "nbformat_minor": 5
}
